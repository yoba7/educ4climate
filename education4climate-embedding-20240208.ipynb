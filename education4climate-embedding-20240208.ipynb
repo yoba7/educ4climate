{
 "cells": [
  {
   "cell_type": "markdown",
   "id": "5589fc7f",
   "metadata": {},
   "source": [
    "# Query education4climate database using text embeddings"
   ]
  },
  {
   "cell_type": "markdown",
   "id": "7fa58795",
   "metadata": {},
   "source": [
    "## Config\n",
    "\n",
    "Use cuda if possible"
   ]
  },
  {
   "cell_type": "code",
   "execution_count": null,
   "id": "a6c98c75",
   "metadata": {},
   "outputs": [],
   "source": [
    "import torch\n",
    "\n",
    "device=-1\n",
    "if torch.cuda.is_available():\n",
    "    device=torch.cuda.current_device()\n",
    "    \n",
    "print(f'Device: {device}')"
   ]
  },
  {
   "cell_type": "code",
   "execution_count": null,
   "id": "e6d4c377",
   "metadata": {},
   "outputs": [],
   "source": [
    "import json\n",
    "import sqlite3\n",
    "import pandas as pd"
   ]
  },
  {
   "cell_type": "markdown",
   "id": "e9be0323",
   "metadata": {},
   "source": [
    "## Hugging face\n",
    "\n",
    "Use this pre-trained multilingual model to compute the embeddings\n",
    "\n",
    "https://huggingface.co/sentence-transformers/paraphrase-multilingual-MiniLM-L12-v2"
   ]
  },
  {
   "cell_type": "code",
   "execution_count": null,
   "id": "d64d965c",
   "metadata": {},
   "outputs": [],
   "source": [
    "from sentence_transformers import SentenceTransformer\n",
    "sentences = [\"This is an example sentence\", \"Each sentence is converted\"]\n",
    "\n",
    "model = SentenceTransformer('sentence-transformers/paraphrase-multilingual-MiniLM-L12-v2')\n",
    "\n",
    "# example of use\n",
    "embeddings = model.encode(sentences)\n",
    "print(embeddings)"
   ]
  },
  {
   "cell_type": "markdown",
   "id": "d8255466",
   "metadata": {},
   "source": [
    "## Connect to education4climate.sqlite\n",
    "\n",
    "The education4climate.sqlite database has been created with this notebook:\n",
    "https://github.com/yoba7/educ4climate/blob/main/education4climate2open-data.py"
   ]
  },
  {
   "cell_type": "code",
   "execution_count": 4,
   "id": "d98bbafa",
   "metadata": {},
   "outputs": [],
   "source": [
    "database=sqlite3.connect('/home/yoba/Projects/education4climate/open-data/output/education4climate.sqlite')"
   ]
  },
  {
   "cell_type": "markdown",
   "id": "4629abf6",
   "metadata": {},
   "source": [
    "## Function to clean text from description"
   ]
  },
  {
   "cell_type": "code",
   "execution_count": 7,
   "id": "96a3e534",
   "metadata": {},
   "outputs": [],
   "source": [
    "import re\n",
    "\n",
    "def clean(text):\n",
    "    text=re.sub(r'[\\n]+',r'\\n',text)\n",
    "    text=re.sub(r'([^\\.\\:])[ ]*\\n',r'\\1. ',text)\n",
    "    text=text.replace(\"'\",\"’\")\n",
    "    text=text.replace(\"•\",\";\")\n",
    "    text=text.replace(\"\\n\",\" \")\n",
    "    text=text.replace(\"\\t\",\" \")\n",
    "    text=text.replace(\"\\xa0\",\" \")\n",
    "    text=re.sub(r'[ ]+',' ',text)\n",
    "    text=re.sub(r'(\\. )+','. ',text)\n",
    "    return(text)\n",
    "    #words=re.findall(r\"\\w+|[\\.\\;\\:\\']\", text)\n",
    "    #return ' '.join(words).lower()\n",
    "\n",
    "# Add this function to the SQLite database\n",
    "database.create_function('clean',1,clean)"
   ]
  },
  {
   "cell_type": "code",
   "execution_count": 118,
   "id": "418059c9",
   "metadata": {},
   "outputs": [],
   "source": [
    "x='''\n",
    " \n",
    " \n",
    "  \n",
    " Systèmes de numération et opérations élémentaires dans ces systèmes.  \n",
    " Variables et opérations logiques : Fonctions de une et plusieurs variables, Table de vérité, Table de Karnaugh.  \n",
    " Fonctions combinatoires de base : Additionneurs à entrées multiples, Aiguillage, Intersection et réunion, Générateur de parité, Comparateur, Décodeur binaire, Multiplexeur, Encodeur binaire prioritaire.  \n",
    " Fonctions séquentielles : Bistables et bascules, RS, Latch D, JK, Registre de comptage, Registre à décalage.  \n",
    " Chacun des sujets donnera lieu à des applications à réaliser par les étudiants et se rapportant au domaine de la mesure ou de la régulation de paramètres climatiques ou environnementaux.\n",
    " \n",
    " Fournir les fondements de la conception, à partir de composants élémentaires, de circuits électroniques utilisables dans le domaine de la mesure et de la régulation climatique et environnementale.\n",
    " \n",
    "\n",
    " \n",
    "\n",
    "\n",
    " A l'issue du cours, l'étudiant doit être capable de\n",
    " \n",
    "\n",
    " \n",
    "  \n",
    "  Réaliser des opérations arithmétiques élémentaires sur des nombres binaires et hexadécimaux.  \n",
    " Comprendre et utiliser les feuilles techniques décrivant les circuits logiques.  \n",
    " Utiliser les portes ou les circuits logiques simples pour concevoir des circuits électroniques réalisant des fonctions de logique combinatoire.  \n",
    " Coordonner une suite d'opérations logiques simples et concevoir des circuits permettant de réaliser une séquence d'opérations.  \n",
    "  Ce cours participe à construire la compétence : \"Concevoir des solutions technologiques permettant de définir des équipements, systèmes, infrastructures et services pour des besoins nouveaux ou non, dans le domaine de l'environnement\".\n",
    " \n",
    " Cours ex-caethedra (1/3), résolution d'exercices (1/3) et séances de laboratoires (1/3).\n",
    "'''"
   ]
  },
  {
   "cell_type": "code",
   "execution_count": 119,
   "id": "07ed9fe8",
   "metadata": {},
   "outputs": [
    {
     "data": {
      "text/plain": [
       "' . Systèmes de numération et opérations élémentaires dans ces systèmes. Variables et opérations logiques : Fonctions de une et plusieurs variables, Table de vérité, Table de Karnaugh. Fonctions combinatoires de base : Additionneurs à entrées multiples, Aiguillage, Intersection et réunion, Générateur de parité, Comparateur, Décodeur binaire, Multiplexeur, Encodeur binaire prioritaire. Fonctions séquentielles : Bistables et bascules, RS, Latch D, JK, Registre de comptage, Registre à décalage. Chacun des sujets donnera lieu à des applications à réaliser par les étudiants et se rapportant au domaine de la mesure ou de la régulation de paramètres climatiques ou environnementaux. Fournir les fondements de la conception, à partir de composants élémentaires, de circuits électroniques utilisables dans le domaine de la mesure et de la régulation climatique et environnementale. A l’issue du cours, l’étudiant doit être capable de. Réaliser des opérations arithmétiques élémentaires sur des nombres binaires et hexadécimaux. Comprendre et utiliser les feuilles techniques décrivant les circuits logiques. Utiliser les portes ou les circuits logiques simples pour concevoir des circuits électroniques réalisant des fonctions de logique combinatoire. Coordonner une suite d’opérations logiques simples et concevoir des circuits permettant de réaliser une séquence d’opérations. Ce cours participe à construire la compétence : \"Concevoir des solutions technologiques permettant de définir des équipements, systèmes, infrastructures et services pour des besoins nouveaux ou non, dans le domaine de l’environnement\". Cours ex-caethedra (1/3), résolution d’exercices (1/3) et séances de laboratoires (1/3). '"
      ]
     },
     "execution_count": 119,
     "metadata": {},
     "output_type": "execute_result"
    }
   ],
   "source": [
    "clean(x)"
   ]
  },
  {
   "cell_type": "markdown",
   "id": "838c6195",
   "metadata": {},
   "source": [
    "# Extract information from database"
   ]
  },
  {
   "cell_type": "code",
   "execution_count": 120,
   "id": "42c03f52",
   "metadata": {},
   "outputs": [
    {
     "data": {
      "text/html": [
       "<div>\n",
       "<style scoped>\n",
       "    .dataframe tbody tr th:only-of-type {\n",
       "        vertical-align: middle;\n",
       "    }\n",
       "\n",
       "    .dataframe tbody tr th {\n",
       "        vertical-align: top;\n",
       "    }\n",
       "\n",
       "    .dataframe thead th {\n",
       "        text-align: right;\n",
       "    }\n",
       "</style>\n",
       "<table border=\"1\" class=\"dataframe\">\n",
       "  <thead>\n",
       "    <tr style=\"text-align: right;\">\n",
       "      <th></th>\n",
       "      <th>id_course</th>\n",
       "      <th>content</th>\n",
       "      <th>goal</th>\n",
       "      <th>activity</th>\n",
       "    </tr>\n",
       "  </thead>\n",
       "  <tbody>\n",
       "    <tr>\n",
       "      <th>0</th>\n",
       "      <td>A000003</td>\n",
       "      <td>Studiefiche. Vanaf academiejaar 2020-2021. Bio...</td>\n",
       "      <td></td>\n",
       "      <td></td>\n",
       "    </tr>\n",
       "    <tr>\n",
       "      <th>1</th>\n",
       "      <td>A000025</td>\n",
       "      <td>Studiefiche. Vanaf academiejaar 2021-2022. Mar...</td>\n",
       "      <td></td>\n",
       "      <td></td>\n",
       "    </tr>\n",
       "    <tr>\n",
       "      <th>2</th>\n",
       "      <td>A000028</td>\n",
       "      <td>Studiefiche. Vanaf academiejaar 2022-2023. Ita...</td>\n",
       "      <td></td>\n",
       "      <td></td>\n",
       "    </tr>\n",
       "    <tr>\n",
       "      <th>3</th>\n",
       "      <td>A000032</td>\n",
       "      <td>Studiefiche. Vanaf academiejaar 2022-2023. Spa...</td>\n",
       "      <td></td>\n",
       "      <td></td>\n",
       "    </tr>\n",
       "    <tr>\n",
       "      <th>4</th>\n",
       "      <td>A000039</td>\n",
       "      <td>Studiefiche. Vanaf academiejaar 2021-2022. Mod...</td>\n",
       "      <td></td>\n",
       "      <td></td>\n",
       "    </tr>\n",
       "  </tbody>\n",
       "</table>\n",
       "</div>"
      ],
      "text/plain": [
       "  id_course                                            content goal activity\n",
       "0   A000003  Studiefiche. Vanaf academiejaar 2020-2021. Bio...              \n",
       "1   A000025  Studiefiche. Vanaf academiejaar 2021-2022. Mar...              \n",
       "2   A000028  Studiefiche. Vanaf academiejaar 2022-2023. Ita...              \n",
       "3   A000032  Studiefiche. Vanaf academiejaar 2022-2023. Spa...              \n",
       "4   A000039  Studiefiche. Vanaf academiejaar 2021-2022. Mod...              "
      ]
     },
     "execution_count": 120,
     "metadata": {},
     "output_type": "execute_result"
    }
   ],
   "source": [
    "courses=pd.read_sql('''\n",
    "        select id_course, \n",
    "               clean(content)  as content, \n",
    "               clean(goal)     as goal, \n",
    "               clean(activity) as activity\n",
    "        from \"T_courses\"\n",
    "        where year=2022 \n",
    "''',database)\n",
    "courses.head()"
   ]
  },
  {
   "cell_type": "markdown",
   "id": "8b2f7bc1",
   "metadata": {},
   "source": [
    "## Compute embeddings\n",
    "\n",
    "Transform descriptions into vectors. Those vectors give the \"direction\" of courses. What we expect: two courses pointing in the same direction are close to one another with respect to their content."
   ]
  },
  {
   "cell_type": "code",
   "execution_count": 121,
   "id": "2501034a",
   "metadata": {},
   "outputs": [],
   "source": [
    "content=[(course.id_course,model.encode(course.content)) for course in courses.itertuples() if len(course.content)>20]\n",
    "content=pd.DataFrame(content,columns=['id_course','ar_embeddings'])"
   ]
  },
  {
   "cell_type": "code",
   "execution_count": 54,
   "id": "2d3bb68e",
   "metadata": {},
   "outputs": [
    {
     "data": {
      "text/plain": [
       "85457"
      ]
     },
     "execution_count": 54,
     "metadata": {},
     "output_type": "execute_result"
    }
   ],
   "source": [
    "#pd.DataFrame([ [row.id_course]+row.ar_embeddings.tolist() for row in content.itertuples() ], columns=['id_course']+[f'elt_{i}' for i in range(384)]).to_sql('T_embeddings_content_v2',database,if_exists=\"replace\")"
   ]
  },
  {
   "cell_type": "markdown",
   "id": "ce0bb84c",
   "metadata": {},
   "source": [
    "## Load embeddings in database for later use"
   ]
  },
  {
   "cell_type": "code",
   "execution_count": 122,
   "id": "dbe52a23",
   "metadata": {},
   "outputs": [
    {
     "data": {
      "text/plain": [
       "85292"
      ]
     },
     "execution_count": 122,
     "metadata": {},
     "output_type": "execute_result"
    }
   ],
   "source": [
    "content2=content\n",
    "content2.ar_embeddings=content2.apply(lambda row: json.dumps(row.ar_embeddings.tolist()),axis=1)\n",
    "content2.to_sql('T_embeddings_content_v1',database,if_exists=\"replace\",index=False)"
   ]
  },
  {
   "cell_type": "markdown",
   "id": "c46aa43e",
   "metadata": {},
   "source": [
    "## Get embeddings from database\n",
    "\n",
    "We can load the embedding from the database for further processing. No need to execute the previous steps each time. Find the embeddings happens only once. Loading the embeddings happens whenever we need to use them."
   ]
  },
  {
   "cell_type": "code",
   "execution_count": 14,
   "id": "f73061a6",
   "metadata": {},
   "outputs": [
    {
     "data": {
      "text/html": [
       "<div>\n",
       "<style scoped>\n",
       "    .dataframe tbody tr th:only-of-type {\n",
       "        vertical-align: middle;\n",
       "    }\n",
       "\n",
       "    .dataframe tbody tr th {\n",
       "        vertical-align: top;\n",
       "    }\n",
       "\n",
       "    .dataframe thead th {\n",
       "        text-align: right;\n",
       "    }\n",
       "</style>\n",
       "<table border=\"1\" class=\"dataframe\">\n",
       "  <thead>\n",
       "    <tr style=\"text-align: right;\">\n",
       "      <th></th>\n",
       "      <th>id_course</th>\n",
       "      <th>ar_embeddings</th>\n",
       "    </tr>\n",
       "  </thead>\n",
       "  <tbody>\n",
       "    <tr>\n",
       "      <th>0</th>\n",
       "      <td>A000003</td>\n",
       "      <td>[0.06495340168476105, 0.17218555510044098, -0....</td>\n",
       "    </tr>\n",
       "    <tr>\n",
       "      <th>1</th>\n",
       "      <td>A000025</td>\n",
       "      <td>[0.08544892072677612, 0.13937175273895264, -0....</td>\n",
       "    </tr>\n",
       "    <tr>\n",
       "      <th>2</th>\n",
       "      <td>A000028</td>\n",
       "      <td>[0.015024576336145401, 0.030444802716374397, -...</td>\n",
       "    </tr>\n",
       "    <tr>\n",
       "      <th>3</th>\n",
       "      <td>A000032</td>\n",
       "      <td>[0.003273577895015478, 0.07063800096511841, -0...</td>\n",
       "    </tr>\n",
       "    <tr>\n",
       "      <th>4</th>\n",
       "      <td>A000039</td>\n",
       "      <td>[0.017539488151669502, 0.16097590327262878, -0...</td>\n",
       "    </tr>\n",
       "  </tbody>\n",
       "</table>\n",
       "</div>"
      ],
      "text/plain": [
       "  id_course                                      ar_embeddings\n",
       "0   A000003  [0.06495340168476105, 0.17218555510044098, -0....\n",
       "1   A000025  [0.08544892072677612, 0.13937175273895264, -0....\n",
       "2   A000028  [0.015024576336145401, 0.030444802716374397, -...\n",
       "3   A000032  [0.003273577895015478, 0.07063800096511841, -0...\n",
       "4   A000039  [0.017539488151669502, 0.16097590327262878, -0..."
      ]
     },
     "execution_count": 14,
     "metadata": {},
     "output_type": "execute_result"
    }
   ],
   "source": [
    "content=pd.read_sql('select * from T_embeddings_content_v1',database)\n",
    "content.head()"
   ]
  },
  {
   "cell_type": "code",
   "execution_count": 15,
   "id": "9decfcae",
   "metadata": {},
   "outputs": [
    {
     "data": {
      "text/plain": [
       "0        [0.06495340168476105, 0.17218555510044098, -0....\n",
       "1        [0.08544892072677612, 0.13937175273895264, -0....\n",
       "2        [0.015024576336145401, 0.030444802716374397, -...\n",
       "3        [0.003273577895015478, 0.07063800096511841, -0...\n",
       "4        [0.017539488151669502, 0.16097590327262878, -0...\n",
       "                               ...                        \n",
       "85287    [-0.012811684980988503, 0.14663667976856232, -...\n",
       "85288    [0.003199424361810088, 0.14067642390727997, -0...\n",
       "85289    [0.00721887219697237, 0.15320619940757751, -0....\n",
       "85290    [0.002447199309244752, 0.15900172293186188, -0...\n",
       "85291    [-0.026580825448036194, 0.1487068235874176, -0...\n",
       "Name: embeddings, Length: 85292, dtype: object"
      ]
     },
     "execution_count": 15,
     "metadata": {},
     "output_type": "execute_result"
    }
   ],
   "source": [
    "content['embeddings']=content.apply(lambda row: json.loads(row.ar_embeddings),axis=1)\n",
    "content['embeddings']"
   ]
  },
  {
   "cell_type": "markdown",
   "id": "5236e738",
   "metadata": {},
   "source": [
    "# Function to compute angles between 2 vectors"
   ]
  },
  {
   "cell_type": "code",
   "execution_count": 5,
   "id": "ff747ab8",
   "metadata": {},
   "outputs": [],
   "source": [
    "import numpy as np\n",
    "\n",
    "def angle(u,v):\n",
    "    θ = np.arccos(np.dot(u,v) / (np.linalg.norm(u) * np.linalg.norm(v)))/3.14159265*180\n",
    "    return(θ)\n",
    "\n",
    "def angleSqlite(u,v):\n",
    "    u=json.loads(u)\n",
    "    v=json.loads(v)\n",
    "    θ = np.arccos(np.dot(u,v) / (np.linalg.norm(u) * np.linalg.norm(v)))/3.14159265*180\n",
    "    return(θ)\n",
    "\n",
    "database.create_function('angle',2,angleSqlite)"
   ]
  },
  {
   "cell_type": "markdown",
   "id": "f9707d37",
   "metadata": {},
   "source": [
    "# Find courses that are closest to a description\n",
    "\n"
   ]
  },
  {
   "cell_type": "code",
   "execution_count": 8,
   "id": "8f991bf2",
   "metadata": {},
   "outputs": [
    {
     "name": "stdout",
     "output_type": "stream",
     "text": [
      "L’algorithmique concerne la résolution de problèmes par la mise en oeuvre de suites d’opérations élémentaires selon un processus défini aboutissant à une solution. \r",
      ". \r",
      ". Cette discipline est à la fois abstraite et mise en pratique par le biais de programmes, typiquement en Python, exécutés sur un ordinateur. \r",
      ". \r",
      ". Complexité temporelle et spatiale Algorithmes de recherche dans les tableaux Types abstraits et structures de données : piles, files, tableaux dynamiques, liste chaînes Algorithmes de tri Récursion Types abstraits récursifs Complexité calculatoire des algorithmes récursifs, équations de récurrence Arbres binaires et dictionnaires Invariants\n"
     ]
    }
   ],
   "source": [
    "def getContent(id_course):\n",
    "    for row in pd.read_sql(f'''\n",
    "            select id_course, \n",
    "                   clean(content)  as content, \n",
    "                   clean(goal)     as goal, \n",
    "                   clean(activity) as activity\n",
    "            from \"T_courses\"\n",
    "            where year=2022 and id_course='{id_course}'\n",
    "    ''',database).itertuples():\n",
    "        return row.content\n",
    "        \n",
    "print(getContent('LINFO1103'))"
   ]
  },
  {
   "cell_type": "code",
   "execution_count": 9,
   "id": "665474e1",
   "metadata": {},
   "outputs": [],
   "source": [
    "x='''\n",
    "Description\n",
    "\n",
    "Ce cours présente les concepts fondamentaux du réchauffement climatique et ses conséquences. \n",
    "\n",
    "Le cours couvrira les sujets suivants :\n",
    "\n",
    "Introduction au réchauffement climatique\n",
    "Les causes du réchauffement climatique\n",
    "Les mécanismes du réchauffement climatique\n",
    "Les conséquences du réchauffement climatique\n",
    "Les politiques et les technologies visant à atténuer le réchauffement climatique\n",
    "'''"
   ]
  },
  {
   "cell_type": "code",
   "execution_count": 10,
   "id": "bbb7fc66",
   "metadata": {},
   "outputs": [],
   "source": [
    "def findContent(desc,seuil=40):\n",
    "    u=model.encode(clean(desc))\n",
    "    closests=[(course.id_course, angle(u,course.embeddings)) for course in content.itertuples() if angle(u,course.embeddings)<seuil]\n",
    "    closests=pd.DataFrame(closests,columns=['id_course','angle'])\n",
    "    closests.sort_values(by=\"angle\",inplace=True)\n",
    "    return(closests)\n",
    "            "
   ]
  },
  {
   "cell_type": "code",
   "execution_count": 16,
   "id": "7cce55a0",
   "metadata": {},
   "outputs": [
    {
     "data": {
      "text/html": [
       "<div>\n",
       "<style scoped>\n",
       "    .dataframe tbody tr th:only-of-type {\n",
       "        vertical-align: middle;\n",
       "    }\n",
       "\n",
       "    .dataframe tbody tr th {\n",
       "        vertical-align: top;\n",
       "    }\n",
       "\n",
       "    .dataframe thead th {\n",
       "        text-align: right;\n",
       "    }\n",
       "</style>\n",
       "<table border=\"1\" class=\"dataframe\">\n",
       "  <thead>\n",
       "    <tr style=\"text-align: right;\">\n",
       "      <th></th>\n",
       "      <th>id_course</th>\n",
       "      <th>angle</th>\n",
       "    </tr>\n",
       "  </thead>\n",
       "  <tbody>\n",
       "    <tr>\n",
       "      <th>15</th>\n",
       "      <td>SPAT0027-3</td>\n",
       "      <td>37.512993</td>\n",
       "    </tr>\n",
       "    <tr>\n",
       "      <th>58</th>\n",
       "      <td>ENVI-F405</td>\n",
       "      <td>37.983487</td>\n",
       "    </tr>\n",
       "    <tr>\n",
       "      <th>44</th>\n",
       "      <td>I0W57A</td>\n",
       "      <td>38.160218</td>\n",
       "    </tr>\n",
       "    <tr>\n",
       "      <th>29</th>\n",
       "      <td>LENVI2005</td>\n",
       "      <td>38.858445</td>\n",
       "    </tr>\n",
       "    <tr>\n",
       "      <th>62</th>\n",
       "      <td>ATGA1013-1</td>\n",
       "      <td>40.478352</td>\n",
       "    </tr>\n",
       "  </tbody>\n",
       "</table>\n",
       "</div>"
      ],
      "text/plain": [
       "     id_course      angle\n",
       "15  SPAT0027-3  37.512993\n",
       "58   ENVI-F405  37.983487\n",
       "44      I0W57A  38.160218\n",
       "29   LENVI2005  38.858445\n",
       "62  ATGA1013-1  40.478352"
      ]
     },
     "execution_count": 16,
     "metadata": {},
     "output_type": "execute_result"
    }
   ],
   "source": [
    "closests=findContent(x,seuil=50)\n",
    "closests.head()"
   ]
  },
  {
   "cell_type": "code",
   "execution_count": 17,
   "id": "4245c962",
   "metadata": {},
   "outputs": [
    {
     "name": "stdout",
     "output_type": "stream",
     "text": [
      "==================================================\n",
      "SPAT0027-3 37.512992893105434\n",
      "Le cours fournit à l’étudiant une synthèse sur les changements climatiques actuels et futurs, ainsi que leurs impacts sur l’environnement et les sociétés humaines. Il se base largement sur le rapport du GIEC, disponible intégralement sur le web. Il contient les sections suivantes: . 1. Panorama du système climatique. 2. Effet de serre et forçages radiatifs. 3. Cycle du carbone et bilans des gaz à effet de serre. 4. Le changement climatique au 20ème siècle : analyse des données et modèles. 5. Les changements climatiques du passé : méthodes de reconstruction et synthèse des observations (dernier millénaire, Holocène, Pléistocène). 6. Le changement climatique du futur : scénarios socio-économiques et projections climatiques du GIEC. 7. Les impacts du changement climatique (niveau de la mer, hydrologie, écosystèmes terrestres et marins, sociétés humaines).\n",
      "==================================================\n",
      "ENVI-F405 37.98348701519353\n",
      "Ce cours se veut une introduction aux fondements et impacts des changements climatiques, aux mécanismes possibles de remédiation et aux réponses politiques et institutionnelles. Le cours aborde en particulier : une introduction à la climatologie et la météorologie, les différents facteurs du climat et les différents climats à la surface de la Terre ; les traits essentiels du Système Terre et de son climat (incl. le rôle crucial qu’y joue le bilan énergétique du globe terrestre) ; les variations naturelles du climat ; la \"machinerie climatique\" (incl. la balance complexe qui existe entre les forçages astronomiques et les rétro-actions liées au fonctionnement du Système Terre) ; les variations récentes du climat (les derniers siècles), au cours de cette période que certains qualifient aujourd’hui d’Anthropocène ; les contours de la crise climatique (scénarios à moyen et long terme, trajectoires d’émissions, impacts et risques climatiques, liens avec d’autres crises globales) ; les enjeux et leviers de la transition vers une société bas-carbone et résiliente (gestion de la transition, transformations sectorielles, enjeux économiques et sociaux, etc.) ; la coopération internationale en matière de climat (CCNUCC, Accord de Paris) ; le cadre institutionnel et les instruments législatifs de la politique climatique européenne ; les enjeux et perspectives à moyen et long termes de la politique climatique en Belgique.\n",
      "==================================================\n",
      "I0W57A 38.160217704496525\n",
      "Content. The following topics will be covered in the first part of the lectures. - Concepts and formalisms employed in meteorology and climate science: * Weather versus climate. * Radiation and the earth’s energy budget. * Atmospheric circulation across scales. * Clouds and precipitation. - Physical science basis underlying current knowledge on climate change: * Observed climate change. * Drivers of climate change. * Understanding and attributing climate change. * Climate models. - Future projections of climate and climate extremes. Content. - Running a simple climate model using a point-and-click web interface (The Monash Simple Climate Model). - Introduction to Linux, CDO and bash scripting, simple exercises on processing large climate data archive (e.g. CORDEX, CMIP5 or ISIMIP data). - Read one or more seminal papers in small groups, write a report about it. Content. The following topics will be covered in the second part of the lectures. - Land surface controls on historical and future changes in climate. - Cycles in the earth system (energy, water, carbon) and their interactions. - Land-climate interactions (e.g. soil-moisture temperature coupling, surface energy balance, compound events). - Regional and global impacts of land use and land cover changes on climate (biogeophysical and biogeochemical effects). - Links between climate, human water management and water scarcity. - Impacts of climate change across sectors, with a focus on impacts on water resources. - Science supporting the Paris Agreement and ongoing climate negotiations (carbon budget, climate action tracker, transient climate response to cumulative CO2 emissions, land-based mitigation). Content. - Earth system sensitivity to complex feedbacks: the case of daisy world. - Running global-scale simulations with the Community Land Model (CLM), perform and analyse a sensitivity experiment. - Programming in your web browser: using the Google Earth Engine, the ESA Earthsytemdatacube or the ECMWF Climate Data Store.\n",
      "==================================================\n",
      "LENVI2005 38.858444539382816\n",
      "Ce cours donne une formation de base à propos de la problématique des changements climatiques et des manières d’en réduire les impacts ou de les prévenir en partie. Le cours est basé sur une structure proche de celle du GIEC (Groupe d’experts Intergouvernemental sur l’Évolution du Climat): 1) Bases physico-chimiques; 2) Impacts, vulnérabilité et adaptation; 3) Atténuation (réduction des émissions de gaz à effet de serre).\n",
      "==================================================\n",
      "ATGA1013-1 40.47835182201478\n",
      "Le cours consiste à présenter aux étudiants ce qu’est l’agrométéorologie et quelle est son utilité dans le monde agricole. La seconde partie du cours est consacrée aux changements climatiques avec l’explication de l’effet de serre et l’illustration des impacts du changement climatique. La dernière partie du cours est dédiée à la présentation des grands phénomènes atmosphériques (circulation océanique, circulation atmosphérique) qui font notre climat.\n",
      "==================================================\n",
      "9110MDOCCC 41.10464719497027\n",
      "The course approaches the interrelated topics of ENERGY and CLIMATE with a multitude of disciplines that are necessary to understand the main components and their interactions. The audience is multidisciplinary, and so is the team of teachers. Central subjects are the impacts of climate change, energy, analytical perspectives and policy responses. Basic concepts, data and frameworks are introduced. The headlines of climate change are put in context highlighting the intimate links with fresh water resources. Energy demand and use are centrally placed and related to the growing evidence of climate change and to energy efficiency and renewable energy technologies for realizing sustainable energy transitions. Policies developed so far are documented from the global over the EU to the Belgian/Flemish level.\n",
      "==================================================\n",
      "8264 41.767953657547636\n",
      "Table of contents : The course will first provide an introduction to climate change science, with a focus on the effects of global change on Tropical ecosystem functions and services, and then it will address the observed and anticipated impacts of global climate change on wetlands, forests and coastal ecosystems. During the course, the students will also acquire an in-depth knowledge of conservation and management issues related to vulnerable tropical ecosystems and of mitigation protocols and scenarios.\n",
      "==================================================\n",
      "CLIM0002-1 42.31665289282513\n",
      "Les chapitres principaux du cours théorique sont les suivants: . 1. Le système climatique et ses composantes 2. Historique et enjeux de la modélisation du climat 3. Exemples d’applications\n",
      "==================================================\n",
      "LBOE2191 42.8939588408354\n",
      "Le principal but du cours est d’initier à une démarche d’analyse critique et scientifique de problèmes environnementaux et écologiques d’actualité. Différents aspects seront abordés comme les changements climatiques, la crise de la biodiversité, les pollutions, le gaspillage des ressources. Nous travaillerons aussi sur la recherche de solutions. Les étudiants prépareront une synthèse sur un des thèmes abordés.\n",
      "==================================================\n",
      "GEOG0667-1 43.14986511992706\n",
      "Le cours a pour but d’approcher la complexité des questions de changements globaux et de transitions énergétiques à travers une lecture géographiques combinant les recherches sur l’évolution du climat et les enjeux énergétiques dans leurs aspects économiques, financiers, sociaux, techniques, environnementaux, démocratiques et géopolitiques. Il permet aux étudiants d’être confronté à un penseur de carrure internationale (Chaire Sporck), de pouvour comprendre sa démarche réflexive sur les enjeux du Pacte vert pour l’Europe et pour le Monde et de se forger sa propre opinion.\n",
      "==================================================\n",
      "ENVT2011-2 43.28693797947795\n"
     ]
    },
    {
     "name": "stdout",
     "output_type": "stream",
     "text": [
      "Le cours comprend un module théorique fournissant quelques bases en climatologie: structure de l’atmosphère, effet de serre, les différents types de climats, les instruments d’observation, bilans énergétiques de l’atmosphère et la surface, indicateurs d’humidité, température potentielle, vents et circulation générale. Ce module théorique est suivi de séances pratiques où l’étudiant utilisera des données météorologiques et/ou climatiques, ainsi que des projections pour le futur, relatives à différentes régions du monde. Ces travaux seront réalisés en groupe, chaque groupe travaillant sur une région de son choix. Ces séances appliqueront les concepts vus au cours théorique en analysant plus spécifiquement: . 1. La classification des climats de Köppen-Geiger. 2. Le bilan énergétique de la surface. 3. Les variables décrivant l’humidité de l’air. 4. Le changement climatique\n",
      "==================================================\n",
      "AGRO1004-1 43.68489713335754\n",
      "Le cours de physique appliquée consiste à présenter aux étudiants ce qu’est la télédétection et son intérêt pour l’étude de la surface terrestre et plus précisément dans le monde agricole. Une partie du cours est consacrée aux changements climatiques et à l’étude des rapports du GIEC. Pour introduire le changement climatique, nous commencerons par \"la fresque du climat\".\n",
      "==================================================\n",
      "GEOL0224-2 43.70794350501345\n",
      "Le cours s’articule en 7 parties. 1. Introduction. 2. Système climatique. 3. Archives paléoclimatologiques. 4. Méthodes de datation. 5. Causes des changements climatiques. 6. Evolution du climat depuis la formation de la Terre. 7. Introduction à la modéllisation climatique et prédictions\n",
      "==================================================\n",
      "UH-M1-METISS-009-M 44.11877125396845\n",
      "Ce cours permettra aux étudiants de : (a) connaître les soubassements idéologiques et théoriques des débats actuels sur la transition écologique à partir d’une approche généalogique ; (b) connaître et discuter les approches dominantes des débats actuels sur la transition écologique ainsi que leurs critiques ; (c) connaître, situer et discuter les nouveaux modèles sociaux écologiques du point de vue théorique, conceptuel et pratique et envisager des pistes d’actions alternatives. La première partie de l’enseignement sera donnée de manière ex cathedra. Les deux autres parties seront constituées de travaux individuels et d’exposés en classe. Le cours abordera les thèmes suivants : l’illusions de la technique ; querelle au sein de l’écologie ; conscience écologique ; les approches de la transition ; la transition écologique ; les nouveaux modèles socio-écologiques ; les perspectives par le bas.\n",
      "==================================================\n",
      "QC1468 44.47857861960726\n",
      "Inhoud. VOOR HET DEEL ‘MILIEU & KLIMAATVERANDERING’ VAN HET OPLEIDINGSONDERDEEL. De basics van de milieu- en klimaatproblematiek. De hoofdrolspelers in het klimaatdebat. De gevolgen van klimaatverandering. Omgaan met klimaatverandering: voorkomen of genezen?. Het klimaatprobleem is een moreel vraagstuk. Het begrip duurzaamheid kunnen verklaren en interpreteren. VOOR HET DEEL ‘AARDRIJKSUNDIGE ACHTERGRONDEN’ VAN HET OPLEIDINGSONDERDEEL. Aardrijkskundige vaardigheden in PAV: parate kennis. De aardrotatie en de aardrevolutie. vademecum PAV Opzoekboek. VOOR HET DEEL ‘FUNCTIONELE REKENVAARDIGHEDEN’ VAN HET OPLEIDINGSONDERDEEL. Rekenkundige vaardigheden\n",
      "==================================================\n",
      "QC1450 44.5337185506293\n",
      "Inhoud. De basics van de milieu- en klimaatproblematiek. De hoofdrolspelers in het klimaatdebat. De gevolgen van klimaatverandering. Omgaan met klimaatverandering: voorkomen of genezen?. Het klimaatprobleem is een moreel vraagstuk. Het begrip duurzaamheid kunnen verklaren en interpreteren.\n",
      "==================================================\n",
      "UH-M1-METISS-003-M 44.62833828357874\n",
      "Ce cours permettra aux étudiants de : (a) connaître les soubassements idéologiques et théoriques des débats actuels sur la transition écologique à partir d’une approche généalogique et décoloniale ; (b) connaître et discuter les approches dominantes des débats actuels sur la transition écologique ainsi que leurs critiques ; (c) connaître, situer et discuter les nouveaux modèles sociaux écologiques du point de vue théorique, conceptuel et pratique et envisager des pistes d’actions alternatives. La première partie de l’enseignement sera donnée de manière ex cathedra. Les deux autres parties seront constituées de travaux individuels et d’exposés en classe. Le cours abordera les thèmes suivants : l’illusions de la technique ; querelle au sein de l’écologie ; conscience écologique ; les approches de la transition ; la transition écologique ; les nouveaux modèles socio-écologiques ; les perspectives par le bas.\n",
      "==================================================\n",
      "10442 44.740019371982626\n",
      "More than ever, in-depth understanding of climate change is needed to inform the public and policy makers for its possibly consequences. This course provides the basic principles required the understand the functioning of the climate system, and how this functioning is changing due to greenhouse gas emissions. In addition, this course provides master students with an overview of the physical processes in which the Earth’s surface interacts with the climate system, and of the implication this has for future water availability. Finally, there is currently a high demand for employees with data science skills, i.e. scientists who can effectively organize and analyze large datasets to gain useful insights. The strong emphasis on exercises in this course prepares the students for jobs with an emphasis on data preparation, modeling, validation and visualization. 1a. Earth system dynamics and Climate change: the physical science basis (1 ECTS) - Concepts and formalisms employed in meteorology and climate science: * Weather versus climate * Radiation and the earth’s energy budget * Atmospheric circulation across scales * Clouds and precipitation - Physical science basis underlying current knowledge on climate change: * Observed climate change * Drivers of climate change * Understanding and attributing climate change * Climate models - Future projections of climate and climate extremes 1b. Modelling Earth System Dynamics (1 ECTS) - Running a simple climate model using a point-and-click web interface (The Monash Simple Climate Model). - Introduction to Linux, CDO and bash scripting, simple exercises on processing large climate data archive (e.g. CORDEX, CMIP5 or ISIMIP data). - read one or more seminal papers in small groups, write a report about it 2a. Interactions between atmosphere, hydrosphere and biosphere in a changing climate (2 ECTS) - Land surface controls on historical and future changes in climate - Cycles in the earth system (energy, water, carbon) and their interactions - Land-climate interactions (e.g. soil-moisture temperature coupling, surface energy balance, compound events) - Regional and global impacts of land use and land cover changes on climate (biogeophysical and biogeochemical effects). - Links between climate, human water management and water scarcity. - Impacts of climate change across sectors, with a focus on impacts on water resources - Science supporting the Paris Agreement and ongoing climate negotiations (carbon budget, climate action tracker, transient climate response to cumulative CO2 emissions, land-based mitigation) 2b. Modelling land-climate interactions (1 ECTS) - Earth system sensitivity to complex feedbacks: the case of daisy world. - Running global-scale simulations with the Community Land Model (CLM), perform and analyse a sensitivity experiment. - Programming in your web browser: using the Google Earth Engine, the ESA Earthsytemdatacube or the ECMWF Climate Data Store.\n",
      "==================================================\n",
      "MSPRI2164 46.08832059968944\n",
      ". Module : Négociations internationales autour des changements climatiquesrnational environnemental et changements climatiques Module : Géopolitique des changements climatiques et actions des institutions internationales \n",
      "==================================================\n",
      "6799 46.09997887589411\n"
     ]
    },
    {
     "name": "stdout",
     "output_type": "stream",
     "text": [
      "The course consists of about 6 lectures covering the broad theme of ’Global Change’, often given by invited speakers. Typical subjects of the presentations cover the history of the Earth, the palaeoclimate, and various aspects of global warming (physical, economical, and political)\n",
      "==================================================\n",
      "ENVT3022-1 46.19023178137648\n",
      "Description de l’unité d’enseignement: . Ce cours examine les principales filières énergétiques avec l’objectif de les quantifier et d’identifier les impacts environnementaux tout au long de ces filières, depuis l’extraction du gisement jusqu’au traitement des déchets. Les impacts environnementaux comprennent l’analyse des interactions entre les processus énergétiques et le climat. Table des matières: . Le cours comprends deux parties: . - Climat: Caractérisation: phénomène physiques; interaction \"Climat&lt;-&gt; Flux énergétiques\"; mesure du climat; prospectives, évolution climatique. - Energie:Introduction et définitions; caractérisation des filières énergétiques; mesure des flux énergétiques; gestion de l’énergie: outils d’évaluation des systèmes énergétiques; prospectives sur les usages énergétiques\n",
      "==================================================\n",
      "ENVT0896-1 46.52362621245196\n",
      "Le cours a pour objectif de fournir aux étudiants les bases scientifiques leur permettant d’appréhender les questions environnementales avec un bagage adéquat. Le cours couvre les disciplines suivantes : rappels de mathématique, physique et thermodynamique A l’issue de cette démarche, les éléments disciplinaires suivants devront avoir été couverts : . Physique : Rappel des notions mathématiques essentielles (fonction,dérivée, intégrale, gradient, équations algébriques différentielles etc). Rappel des notions de base de physique (force, pression, puissance et énergie) en relation avec des problématiques environnementales. Grands principes de conservation (masse, quantité de mouvement, énergie, équation de continuité). Mécanique et hydraulique. Electricité et magnétisme. Ondes et optique. Energie nucléaire. Applications environnementales. Thermodynamique : Notion de système, variables et fonctions d’état, variables intensives et extensives, principes de la thermodynamique, énergie, exergie, enthalpie, entropie, lien avec le développement durable, applications diverses\n",
      "==================================================\n",
      "UW-B2-IGGEST-003-M 47.010720738365926\n",
      ". Exercices/applications relatifs aux différents notions vuscle de l’eau, les nappes phréatiques, les processus de surface associés, les ressources énergétiques minérales et associées) sont étudiés. as parfait. ité, précipitation; composés organiques. cipe de conservation de l’énergie totale. e l’environnement . L’incidence environnementale des procédés industriels (rejets, matières premières) , notamment l’effet de serre , les pluies acides, le trou dans la couches d’ozone la pollution atmosphérique, la pollution des eaux sont étudiés. \n",
      "==================================================\n",
      "1100WETETH 47.252183134318386\n",
      "Deze cursus bestaat uit een reeks voordrachten gegeven door prominente sprekers uit het academisch wetenschappelijke, industriële en bredere maatschappelijke milieu. Elke voordracht belicht een thema waarin wetenschappelijke inzichten een impact hebben op de maatschappij: duurzame energie, genetisch engineering, levenscyclusanalyse, evolutieleer, groene chemie, broeikaseffect … het zijn slechts een handvol van de mogeljike thema’s. Zo worden de studenten geconfronteerd met de grijswaarden van de samenleving: geen slogantaal, maar complexe vraagstukken die ook met wetenschappelijke helderheid kunnen worden benaderd. Voorafgaand houden we enkele algemene oefeningen in discussiëren, kritisch denken, en het opbouwen van een argumentatie. We bespreken ook het begrip ’wetenschap’, ’experiment’, en de ethiek van de onderzoeker. De studenten dienen een van de aangeboden stellingen, na de lezingen, te situeren en hun eigen visie op het onderwerp omstandig en, vooral, beargumenteerd, neer te zetten. Daarnaast worden de studenten met real-life voorbeelden in het ondernemerschap onder gedompeld waar ze een inhoudelijk opdracht rond maken.\n",
      "==================================================\n",
      "4310 47.43533302925482\n",
      "Content of theoretical lessons: Historical introduction; The engineering design process (with case histories); (analysis and implementation); Protection of technical kwowledge; European regulations,Innovation strategy and management; Hazards of new technology, ethics and product liability; Global warming. During the course , there will be some seminars by invited speakers from industry and some visits to selected companies. The student has to write 3 papers on selected topics, dealing with FMEA, environment and new technologies.\n",
      "==================================================\n",
      "CLIM0007-2 47.47364709666823\n",
      "Le cours est subdivisé en une série de modules qui traiteront successivement des thèmes suivants : . CONTEXTE ET ENJEUX. Principaux gaz à effet de serre (GES) et bandes d’absorption dans l’infrarouge. Chimie atmosphérique des GES, sources, puits et contribution au forçage radiatif. Emissions globales et séries temporelles des GES; évolutions passées et présentes. Ozone troposphérique et stratosphérique, production, cycles catalytiques et tendances à long terme, y.c. projections. METHODES DE MESURE DES GES ATMOSPHERIQUES. Plateformes de mesure : sol, avions, satellites. Techniques in situ et télémesures (infrarouge, ultraviolet,...), éléments de spectroscopie moléculaire. Apports des différentes techniques, instrumentations et performances atteintes. Réseaux d’observations et de surveillance de l’atmosphère terrestre. Inversion du profil de distribution verticale d’un GES au départ de spectres infrarouges à haute résolution. CONVENTIONS INTERNATIONALES : REPONSES ET PISTES. La convention de Vienne et le Protocole de Montréal. L’amendement de Kigali. La convention de Rio et le Protocole de Kyoto. L’accord de Paris (COP21). Insuffisance des mesures actuelles et scenarii d’évolutions. Plan wallon air/climat, politiques régionales\n",
      "==================================================\n",
      "LENVI2010 47.66759764238161\n",
      ". La seconde est illustrative d’un thème particulier (variant d’une année académique à l’autre). Elle donne lieu à des exposés d’intervenants extérieurs choisis pour leur expérience dans la thématique choisie (exemples de thèmes précédemment choisis : alimentation, biodiversité, changements climatiques, OGM, énergie, eau, ...)es). \n",
      "==================================================\n",
      "ENVI-F409 47.67870877427904\n",
      "Le cours abordera successivement les analyses, concepts, cadres de pensée, réponses... que les sciences économiques ont construits face aux problèmes environnementaux. On abordera plus particulièrement à travers le cours des aspects de l’économie des ressources naturelles, de l’économie environnementale et de l’économie écologique. Une série limitée de séances sera dédiée à donner un aperçu des approches développées dans le cadre du Management Environnemental (p.ex. Systèmes de Management Environnemental en entreprises).\n",
      "==================================================\n",
      "1050FLWGES 47.83525839298207\n",
      "De cursus is thematisch opgebouwd en laat de studenten kennismaken met de grote themata uit de ecologische geschiedenis. Elk thema begint haast noodzakelijkerwijs met een instap in het heden: de “ecologische agenda” van het ogenblik dient als vertrekpunt voor de historische vraagstelling. Thema’s die ondermeer aan bod kunnen komen zijn klimaatverandering; energie; voeding; urbanisatie; natuurrampen; (stedelijke) vervuiling; visies op natuur en wildernis; waterbeheer en de relatie tussen economie en ecologie. In elk college wordt één thema geselecteerd dat vervolgens ingeleid wordt en uitgediept aan de hand van concrete casussen. De bedoeling is om studenten te laten kennismaken met een zo breed mogelijk spectrum van concepten, methodologie, stellingnames, onderzoeksmogelijkheden en - beperkingen binnen de ecologische geschiedenis zowel op Europees en wereldniveau als voor wat betreft de Nederlanden. In één of twee excursies worden de inzicht uit de cursus tot slot getoetst aan enkele kenmerkende landschappen of ecosystemen.\n",
      "==================================================\n",
      "2057GENEP2 47.86442222710827\n"
     ]
    },
    {
     "name": "stdout",
     "output_type": "stream",
     "text": [
      "This course provides basic knowledge of the principles of environmental epidemiology, specific study designs, and concepts. The course includes lectures on the concepts of the exposome and developmental origins of health and disease applied to environmental health, and lectures on the health effects of air pollution, (urban) green space, and climate change, among others. Lectures include methodological aspects applied to conduct epidemiological studies on the specific topics presented in class (specific study designs, measures of exposure and outcome, and statistical analyses). This course provides basic knowledge of the principles of environmental epidemiology, specific study designs, and concepts. The course includes lectures on the concepts of the exposome and developmental origins of health and disease applied to environmental health, and lectures on the health effects of air pollution, (urban) green space, and climate change, among others. Lectures include methodological aspects applied to conduct epidemiological studies on the specific topics presented in class (specific study designs, measures of exposure and outcome, and statistical analyses).\n",
      "==================================================\n",
      "HMM48A 47.877642079531725\n",
      "Content. The course is divided in two parts and centers around several selected topics: Part 1 is managed by Johan Eyckmans and addresses the following topics: The topic ‘Climate’ includes a.o. deeper insight into (i) cost-benefit analysis and integrated-assessment models to determine long-term climate policy goals, (ii) carbon emissions trading (EU emission tracing scheme ETS, offsetting etc.), and (iii) game theoretic analysis of international environmental agreements. The topic ‘Circular Economy’ includes (i) the analysis of the basic economic models for non-renewable resource extraction (Hoteling) and (ii) the interaction of different policy instruments used to achieve a more circular economy model of production, consumption and recycling. Part 2 is managed by Sandra Rousseau and addresses the following topics: The topic ’Biodiversity and conservation policy’ includes a.o. deeper insight into the economic modelling of forest and fisheries management. The topic ‘Policy design’ includes a.o. deeper insight into the use and design of environmental policy instruments such as auctions for nature conservation as well as policy evaluation (cost benefit analysis and economic valuation). For each of these topics a selection of current topics is discussed with the help of standard concepts and models from environmental and resource economics. Knowledge acquired during previous years concerning different environmental issues and policies is actively used. Furthermore, students are stimulated to actively process and evaluate scientific literature. The students each write two referee reports on a scientific publication selected from a list of publications put on toledo by the professors. These publications will treat similar topics as those described above.\n",
      "==================================================\n",
      "GEST7030-1 47.93349090865273\n",
      "Ce cours a pour objectif principal d’introduire l’étudiant.e aux notions économiques clés pour comprendre et articuler au mieux les enjeux sociétaux liés à la transition écologique et sociale. Il s’agira notamment d’exposer les différentes grilles de lecture existantes pour appréhender les interactions entre les sphères économiques et environnementales. Une fois posées les balises de réflexion permettant de contraster les ressorts théoriques des différentes approches, le cours abordera plus en profondeur le champ interdisciplinaire connu sous le nom d’ Economie Ecologique ( Ecological Economics en anglais) en examinant une série de concepts, méthodes et principes d’analyse ou d’action qui y sont liés. Ce champ provient d’une volonté de faire dialoguer toutes les disciplines concernées par le croisement des questions économiques et des questions écologiques, y compris dans leur dimension sociale. Les principes essentiels de l’ Economie Ecologique peuvent être associés à un objectif de développement durable dans sa double dimension d’équité inter et intra-générationnelle ainsi qu’à une conception de l’économie comme un sous-système d’un écosystème (local ou global) plus vaste qui impose des limites physiques à l’activité économique. A titre illustratif, le cours abordera les aspects suivants : . Fondements étymologiques, épistémologiques, historiques et théoriques de l’étude des interactions entre les sphères économiques et environnementales. Analyse des notions-clés de l’économie environnementale : externalités, biens publics, taxe carbone, permis, etc. Discussion de la notion centrale de la ’valeur’ et analyse critique des principales méthodes d’évaluation des actifs environnementaux. Présentation et discussion de l’analyse des principes de gestion des actifs environnementaux (importance de la prise en compte de l’incertitude et du rapport au temps via l’actualisation) à travers plusieurs exemples comme les analyses économiques traitant des changements climatiques ou de la biodiversité. Discussion de la relation entre la croissance économique, la qualité environnementale et le bien-être. Réhabilitation/rediscussion de notions clés du débat économie/écologie : entropie, circularité, évolution, etc. Apports complémentaires à la grille de lecture économique traditionnelle : théorie des habitudes, enfermement technologique, indicateurs alternatifs au PIB, etc. Mise en perspective de ces notions complémentaires avec la question de la transition (théorie des niches, ré-émergence de la co-opération, relocalisation et réappropriation citoyenne de l’économie, etc.). Ouverture sur les approches transdisciplinaires et la logique de co-création pour éclairer la compréhension du rôle des initiatives d’économie sociale dans la transition écologique et sociale\n",
      "==================================================\n",
      "4594 48.47635363714824\n",
      ". Cross-cutting topics (climate change and participative democracy; climate change and human rights; climate change and biodiversity; climate change and cultural heritage)\n",
      "==================================================\n",
      "GEOG2016-1 48.537428632286115\n",
      "Partim climatologie. La première partie du cours (climatologie donnée par M. Fettweis et M. Doutreloup via le MOOC) enseigne : . - les notion de base pour comprendre ce qu’est un climat et ce qu’est le réchauffement climatique - les facteurs et les processus expliquant la variation spatiale et temporelle des climats - la répartition des climats à la surface de la Terre et de leurs spécificités principales. - le bilan énergétique de la Terre - les facteurs explicatifs des réchauffements climatiques naturels et anthropiques - des notions de paléoclimatologie - les conséquences à différentes échelles spatiales du réchauffement climatique . Partim géomorphologie. Ce cours de géographie physique se présente sous la forme de deux parties distinctes (Climatologie et géomorphologie) : . 1) La partie climatologie du cours est donnée par M. Fettweis. 2) La deuxième partie du cours, donnée par G. Houbrechts, aborde les notions de base de la géomorphologie. Différents thèmes sont abordés : . - Les grandes unités du relief, les formes structurales, l’évolution du relief à différentes échelles temporelles. - Les agents de transport en masse: éboulis, éboulements, avalanches; glissements de terrain; creep et solifluxion; le ruissellement; l’érosion des sols. - Les phénomènes karstiques: processus de dissolution; facteurs climatiques; formes et dépôts karstiques.\n",
      "==================================================\n",
      "DROI-C5150 48.60439375247407\n",
      "Dans un premier temps, sera précisé le cadre théorique général dans lequel les règles relatives à la protection de l’environnement s’inscrivent. Cette partie consistera en un enseignement de type magistral, consistant à l’exposé de l’évolution historique du droit de l’environnement, de ses sources et sujets, des principes généraux de ce droit ainsi que des modalités relatives à la responsabilité pour des dommages causés à l’environnement. Une participation active des étudiants et des lectures obligatoires feront partie de l’enseignement. Dans un deuxième temps, seront analysées certaines thématiques clés et certaines questions juridiques plus complexes relatives à la protection de l’environnement. Cette analyse sera opérée à travers la réalisation d’un travail de groupe (travail écrit et présentation effectuée par les étudiants), suivies d’une discussion en classe, avec l’intervention éventuelle d’un.e expert.e de la thématique.\n",
      "==================================================\n",
      "SSMRM102 48.691838654354825\n"
     ]
    },
    {
     "name": "stdout",
     "output_type": "stream",
     "text": [
      "Acquis d’apprentissage. A la fin de cette unité d’enseignement, les étudiants devraient être capables de : . Comprendre la relation entre activités humaines et processus naturels, et leurs impacts sur l’environnement (y compris les dimensions politiques et de gestion). Comprendre les différentes dimensions du changement global : changement climatique, espèces invasives, perte de biodiversité, changements d’utilisation du sol…. Mobiliser de manière critique le concept de Services Ecosystémiques (dans le contexte institutionnel actuel) pour prendre en compte le changement environnemental dans les politiques de gestion et d’aménagement des espaces ruraux. Comprendre et interpréter les résultats, limitations, et abus potentiels de l’évaluation scientifique au vu des incertitudes qui lui sont associées. Comprendre de manière critique l’interface science-politique dans le contexte des changements globaux (notamment IPCC et IPBES). Contenu. Cette UE présente les différents volets du changement environnemental global, et le rôle des activités humaines en lien avec celui-ci. L’UE commence par un aperçu historique des conditions de l’holocène, avant de proposer une définition du concept d’anthropocène et une réflexion sur les apports et limites de ce concept. Les différents volets du changement global sont ensuite détaillés en lien avec la notion des limites de la planète : changement climatique, perturbation du cycle de l’azote, déclin de la biodiversité, changements d’utilisation des sols, espèces invasives. Les interactions entre ces volets sont également discutées. Le concept de Services Ecosystémiques est introduit comme un outil voire un objet intermédiaire pour prendre en compte le changement environnemental dans les politiques de gestion et d’aménagement des espaces ruraux. Une partie de cette UE vise à comprendre et interpréter les résultats et limites de l’évaluation scientifique au vu des incertitudes qui lui sont associées, dans le cadre des nombreuses interfaces sciences-politiques liées à la conservation environnementale à diverses échelles.\n",
      "==================================================\n",
      "LDVLP2315 48.73317459324355\n",
      ". (1) Caractérisation de l’anthropocène et critique du concept et de ses variantes (2) Présentation des risques et enjeux climatiques, écologiques, et de leurs interrelations avec des problématiques sociales et politiques (3) Présentations de perspectives critiques sur les crises écologiques (notamment les perspectives dé coloniales et multi-spécifiques) (4) Etude des dynamiques et mouvements transitions et/ou de résiliences : diversité des processus, points de vues depuis les Nords et des Suds.\n",
      "==================================================\n",
      "UW-M1-IGGEST-080-M 48.85937156439594\n",
      ". Economie du bien-être (welfare economics) et l’environnement, le niveau optimal de pollution, évaluation d’instruments de politique environnementale (réglementations, taxes, quotas d’émission, approches volontaires), analyse coûts-avantages, commerce international et changements climatiques, comptes économiques et environnementaux, calculs d’empreinte, développement durable, négociations internationales sur des problèmes environnementaux et aspects institutionnels.\n",
      "==================================================\n",
      "SGOGB305 48.90261969963363\n",
      "Acquis d’apprentissage. A la fin du cours, l’étudiant sera capable de. 1. Comprendre comment l’homme interagit avec son environnement autour d’une des nombreuses problématiques liées aux changements globaux de l’environnement;. 2. Mettre en évidence les preuves scientifiques de cette problématique si médiatique, étape nécessaire avant de développer un avis ;. 3. Développer un esprit critique face à la quantité d’information présente autour de nous (média, internet, homme de la rue, politique, scientifique, etc.). Objectifs. 1. Comprendre comment l’homme interagit avec son environnement autour d’une des nombreuses problématiques liées aux changements globaux de l’environnement;. 2. Mettre en évidence les preuves scientifiques de ces problématiques si médiatiques, étape nécessaire avant de développer un avis ;. 3. Développer un esprit critique face à la quantité d’information présente autour de nous (média, internet, homme de la rue, politique, scientifique, etc.). Contenu. Approche par problème, en groupe, autour d’une problématique donnée. Table des matières. Disciplines. Géographie humaine Economie de l’environnement et des ressources naturelles\n",
      "==================================================\n",
      "S0F06A 48.96529934399911\n",
      "Content. Students will be acquainted with the main approaches to analysing global environmental, climate, and sustainability politics. The roles of the main actors and processes of international environmental, climate, and sustainability politics as well as the most important principles and concepts of contemporary global environmental, climate, and sustainability governance will be discussed. The course includes various activities: Each session consists of an online module and a class meeting. The online modules should be completed prior to the respective class meeting, during which its content, tasks, and case studies will be discussed;. During small-group seminars, students will apply the knowledge that they acquired through the online module and a class meeting to real-life cases. During a simulation, students will take on the roles of country representatives and simulate the negotiations of an international environmental, climate, or sustainability agreement;. Selected guest speakers will share their insights into different aspects of global environmental, climate, and sustainability governance.\n",
      "==================================================\n",
      "2201WETOCE 48.97959763165142\n",
      ". It will introduce the technical basis of the different methods, the analysis and interpretation of the data in the context of global change studies. A second part involves a short overview of the most important bio-informatics approaches that are important for Omics data analysis. Finally, other Omics techniques (e.g. Phenomics, Phosphoproteomics, Interactomics) and the possibilities to integrate data obtained with different techniques into regulatory networks (genome-wide and pathway-level interaction maps) will be discussed.\n",
      "==================================================\n",
      "173706 48.99122709236071\n",
      "Dit praktijkvak bouwt voort op de competenties die de studenten hebben verworven in Crossmediale projecten 4 en 5. In dit praktijkvak, onderdeel van CMP6 leer je met een klimaatbril naar de actualiteit te kijken. Wat is klimaatverandering en hoe grijpt het in op onze maatschappij? Hoe doen we aan berichtgeving over klimaatverandering en hoe brengen we de verhalen erover? Studenten gaan samen met professionals uit het werkveld op zoek naar antwoorden en maken klimaatjournalistieke stukken in Crossmediale projecten 6: Klimaat.\n",
      "==================================================\n",
      "173375 48.99122709236071\n",
      "Dit praktijkvak bouwt voort op de competenties die de studenten hebben verworven in Crossmediale projecten 4 en 5. In dit praktijkvak, onderdeel van CMP6 leer je met een klimaatbril naar de actualiteit te kijken. Wat is klimaatverandering en hoe grijpt het in op onze maatschappij? Hoe doen we aan berichtgeving over klimaatverandering en hoe brengen we de verhalen erover? Studenten gaan samen met professionals uit het werkveld op zoek naar antwoorden en maken klimaatjournalistieke stukken in Crossmediale projecten 6: Klimaat.\n",
      "==================================================\n",
      "F0ZI0A 49.04593673227848\n",
      "Content. This course examines the relationship between humans and their environment from an historical perspective (500-1800). The course combines a theoretical exploration of the big ecological debates and concepts, with a case study approach. Theme’s that will be discussed are vulnerability, pollution, environmental justice, natural disasters, climate change, circular economies, etc. Each year the theoretical classes will be supplemented with an excursion and an assignment to develop an environmental excursion to explore our environmental past in real life. Student’s that follow this course will develop a more nuanced and contextualized image of the current climate and environmental debates.\n",
      "==================================================\n",
      "WMDS1224 49.08581479678288\n"
     ]
    },
    {
     "name": "stdout",
     "output_type": "stream",
     "text": [
      "idem thèmes abordés. Signalons que ce cours aborde le développement durable durant deux heures consacrées aux liens entre la pollution atmosphérique, le réchauffement climatique et le développement durable. Un tel cours débouche sur la réalisation d’un travail personnel sur un polluant atmosphérique corrigé par les étudiants dits \"pairs\", avec un souci d’apporter dess remarques constructives au travail. Signalons enfin qu’en 2022-23 et années suivantes, la partie histologique spécialisée de ce cours sera donnée au sein du cours d’histologie WMDS 1226. Il est donc important pour l’étudiant de bien saisir la complémentarité de la matière entre ces deux cours.\n",
      "==================================================\n",
      "DROI-C2002 49.110362593095886\n",
      ". En outre, le cours s’accompagne de 3 à 4 séances de travaux pratiques permettant la réalisation d’exercices (recherches documentaires, résolution de cas pratiques...).u logement, la lutte contre le réchauffement climatique, les violences policières, etc. \n",
      "==================================================\n",
      "LDEMO2130 49.110896454592805\n",
      ". Identifier les grandes théories, doctrines et approches explicatives propres à chaque grand phénomène démographique (fécondité, formation des couples, mortalité, migration, urbanisation) ou aux relations population-développement ; Identifier les relations causales entre variables ; Identifier les avantages et inconvénients des niveaux d’analyse micro, meso et macro ; Aider à l’identification de l’une ou l’autre approche théorique ou explicative pour leur mémoire.\n",
      "==================================================\n",
      "LECGE1323 49.121794265579126\n",
      ". Un travail écrit : Les étudiant.e.s sont amenés à choisir un acteur économique (ou un acteur politique dans le cadre de son rôle de régulateur d’un secteur économique). En utilisant les grilles d’analyse et les concepts vus dans le cadre du séminaire, les étudiant.e.s analysent et discutent les actions actuelles et potentielles de cet acteur pour lutter contre le changement climatique et répondre aux enjeux écologiques et sociaux. Le travail est nourri par des lectures et références à des articles publiés dans la littérature scientifique, par des documents spécifiques liés au terrain étudié et éventuellement par des interviews avec l’acteur dont l’action est étudiée (et/ou d’autres acteurs de terrain pertinents). Une présentation orale qui prend la forme d’une audience du tribunal des générations futures.\n",
      "==================================================\n",
      "T49SEP 49.154715288424974\n",
      "Content. The lectures cover the following topics: Introduction to Energy Science. Energy from fossil fuels. Biomass and Waste to Energy. Thermal, solar thermal and geothermal energy. Wind power. Photovoltaics. Energy systems. Each chapter focuses on both technological and economic aspects. The course starts by describing the different technologies individually. Ultimately the combination and integration of different technologies in a system to achieve a sustainable energy production based on the available resources is discussed. Content. Seminars may consist of. Company visits. Guest lectures on sustainable energy topics. Exercise sessions and Toledo quizzes. A supervised group assignment on a specific topic of sustainable energy production in which students work out a case based on an own literature study and input from lectures and guest lectures\n",
      "==================================================\n",
      "LGEO2290 49.26002669022152\n",
      ". La seconde partie aborde la simulation numérique: équations différentielles, modélisation (consistance, convergence et stabilité) (Qiuzhen Yin)oudre, il faut généralement utiliser des méthodes numériques. Il s’agit donc d’un préalable essentiel pour les étudiants qui souhaitent poursuivre un cursus (mémoire ou thèse) en modélisation du climat. \n",
      "==================================================\n",
      "ENVI-F403 49.28359969431405\n",
      "La base de ce cours sont les études de la soutenabilité/durabilité (sustainability studies), dont les sciences de la soutenabilité (sustainability science). Le cours présentera les différentes approches à l’analyse des dynamiques socio-environnementales (c.à.d. les rapports entre société et environnement), en abordant les concepts fondamentaux et les hypothèses de base de chacune des approches, ainsi que les paradigmes au sein desquels ces approches se développent. On travaillera sur les approches émanant des sciences sociales et humaines (political ecology, gouvernance environnementale...) ainsi que sur celles « héritées » des sciences naturelles (systèmes, complexité, etc.). Bien que le cours est conçu pour les étudiant.e.s en gestion de l’environnement, il fournit des outils utiles pour apprendre à travailler dans des équipes pluridisciplinaires et aide à comprendre l’importance de réfléchir en termes de points de jonction et connections, plutôt que de façon isolée, lorsqu’on veut faire face à des problèmes environnementaux. En outre, les approches présentées peuvent être appliquées au-delà des études environnementales, à toute une série de disciplines, de la santé publique à l’éthique.\n",
      "==================================================\n",
      "D0E37A 49.301926632934915\n",
      "Inhoud. De cursus bevat zes delen: 1. inleiding en basisconcepten. 2. het bepalen van de economisch optimale graad van bestrijding van de milieuvervuiling. 3. de keuze van de instrumenten voor het aanzetten tot bestrijding van de vervuiling. 4. schatting van kosten en baten. 5. het milieumanagementsprobleem op het niveau van een bedrijf. 6. special topics die worden verdiept o.a. energiebeleid. Na een eerste schets van de relatie tussen economie en milieuproblemen worden eerst de basisinstrumenten uitgelegd (vraag en bereidheid tot betalen, productiekost, economische efficiëntie). In het tweede deel worden de twee basisconcepten van de milieu-economie nl. milieuschade en kosten van emissievermindering gedefinieerd. Met behulp van deze twee concepten kan men een kosten- en batenanalyse maken die toelaat te bepalen hoever men best gaat in de pollutiebestrijding. Het derde deel handelt over de keuze van beleidsinstrumenten om dit gewenste niveau van pollutiebestrijding te realiseren. De volgende instrumenten worden onderling vergeleken: milieubelastingen op emissies en producten, normen op nieuwe en oude toestellen en op producten, convenanten en aansprakelijkheidsverzekeringen. In het vierde deel worden de technieken toegepast voor de evaluatie van het bestaande beleid. Er worden technieken aangeleerd om milieukosten en -baten te schatten buiten bestaande markten om. In het vijfde deel wordt ingegaan op de managementsproblematiek binnen één bedrijf aan de hand van enkele case studies.\n",
      "==================================================\n",
      "JPOW11 49.36097013078054\n",
      "Inhoud. Vakdidactiek. Studie van het leerplan SO aardrijkskunde tweede graad - juiste begripsvorming in de aardrijkskunde. Leerplan. Het weer - Extreem weer - Het klimaat - Klimaatzones - Natuurlijke vegetaties. Basis. Samenstelling en opbouw van de atmosfeer - stralingsbalans op aarde - algemene luchtcirculatie op aarde - luchtvochtigheid en neerslag - weerkaarten en het weerbericht. Uitdieping. Klimaatclassificatie van Köppen\n",
      "==================================================\n",
      "ENVT0846-2 49.376678864361516\n",
      "Le cours comprend trois parties : . Histoire de la notion de développement durables : du progrès à l’anthropocène. Les grands enjeux climatiques. L’anthropocène : limites et risques\n",
      "==================================================\n",
      "LICAR2823 49.390388488337535\n",
      "Partant d’un aperçu historique des principes et des debats liés au développement durable, le cours étudie la manière dont la recherche scientifique et la pratique du projet peuvent répondre de manière adéquate aux défis actuels et futurs - p.ex., le changement climatique, la crise énergétique, les demandes de confort, santé et bien-être dans les bâtiments - dans le cadre d’une approche résiliente et circulaire a’ la conception architecturale. Le cours s’articule autour des contenus suivants : - De la durabilité à la résilience et à la circularité - Labels environnementaux et certificats énergétiques - Bâtiments verts vs. bâtiments sains - Confort, santé et bien-être dans les bâtiments - Physique vs. psychophysique : les limites de la tolérance - Méthodes et outils pour la conception et l’analyse environnementale - Recherche par le projet ou Projet par la recherche\n",
      "==================================================\n",
      "GEST-S471 49.41199614762248\n"
     ]
    },
    {
     "name": "stdout",
     "output_type": "stream",
     "text": [
      "Le cours couvre les sujets suivants : Partie 1 : Concepts de base Aperçu historique des liens entre développement économique et environnement ; Indicateurs de mesure de la richesse et du bien-être ; Analyse coût-bénéfice et mesure de bénéfices environnementaux ; Placer une valeur sur la vie humaine ; Analyse de risque et principe de précaution ; Quelques principes écologiques de base. Partie 2 : Le secteur privé et la durabilité Aperçu historique de la réponse du monde des entreprises aux questions de durabilité ; Biomimétisme et écologie industrielle ; Bilans de masse et métabolisme industriel ; analyse du cycle de vie ; comptabilité carbone ; analyse input-output ; A la recherche de modèles d’affaires durables ; Définir la durabilité et ses composantes ; Entreprises sociales et retour social sur investissement ; Durabilité et culture d’entreprise. Le contenu théorique de ce cours est principalement basé sur l’ouvrage suivant : Nemetz, Peter N. 2014. Business and the Sustainability Challenge: An Integrated Perspective . London: Routledge.\n",
      "==================================================\n",
      "D0M36B 49.47001246415544\n",
      "Content. Foundational environmental and resource economics. Cost and benefit analysis and applications. Integrated Assessment Models for Climate Change. Government Responses to Pollution problems. International environmental problems, cooperation, and trade. Content. Classes and seminars for student input and various group activities\n",
      "==================================================\n",
      "GEST1097-1 49.47351566265709\n",
      "Gestion du changement. Le cours fournit aux étudiants un certain nombre d’outils théoriques et conceptuels en vue de les aider à concevoir, de manière pertinente, un plan d’action et de gestion du changement. Il présente un certain nombre de grilles dont on peut disposer, dans les Sciences de gestion, pour décrire les divers projets de changements, leur nature, leur ampleur et leur temporalité. Il montre comment on peut tenter d’expliquer ces changements en recourant à différentes approches théoriques. Une réflexion critique est entamée sur la manière d’évaluer un processus de changement à l’aide d’une grille multidimensionnelle. Enfin, il aborde le changement comme processus à gérer, en explorant diverses pistes d’action concrètes liées aux approches théoriques envisagées précédemment. Gestion par objectifs. L’atelier est consacré a` l’analyse des trois thèmes suivants, qui sont au cur du métier du manager : définir des objectifs, déléguer des tâches, évaluer des objectifs. Ces trois thématiques seront abordées selon trois perspectives : . Est-ce que cela marche ? (démarche critique). Pourquoi est-ce que cela marche ? (compréhension des mécanismes). Comment faire concrètement ? (application pratique). L’approche privilégiée repose sur les principes de l’Evidence-Based Management (les recherches scientifiques au service de la pratique de terrain) et sur l’approche et les outils inspirés du coaching et de « l’Orientation solution ».\n",
      "==================================================\n",
      "24487 49.551258422214566\n",
      ". - Introduction à l’approche interculturelle selon M. Cohen-Emerique. e référence et dans différentes religions, en particulier celles de l’école chrétienne et celles véhiculées dans l’Evangile. sols et des nappes phréatiques, la biodiversité, l’énergie (nucléaire, fossiles, renouvelables et inépuisables). La problématique des déchets , etc … \n",
      "==================================================\n",
      "HULG0484-1 49.58199178397698\n",
      "https://uclouvain.be/cours-2019-lenvi2005. Les cours se basera sur le dernier rapport du Groupe d’experts Intergouvernemental sur l’Evolution du Climat (GIEC), au travers de ses trois groupes de travail : GT1 (les bases physiques) ; GT2, (conséquences, adaptation et vulnérabilité) ; et GT3, (atténuation des changements climatiques). Chacun des trois thèmes sera d’ abord introduit de façon générale sur la base des conclusions du GIEC, puis illustré par des personnalités invitées, belges et étrangères, spécialistes dans les aspects scientifiques, économiques, sociaux et politiques de la problématique.\n",
      "==================================================\n",
      "22MPD20 49.631226829128785\n",
      "Le plan du cours est sujet à modification en fonction des intérêts des étudiants, de l’actualité et du temps disponible. Pour la section « Questions de gestion dans les contextes de développement » - Patrick Gaudissart. 1. Mondialisation et développement. 1.1. Mondialisation et dépendance. 1.2. Les termes de l’échange. 1.3. Les politiques commerciales. 2. Enjeux de développement face aux défis Mondiaux. 2.1. Développement économique et enjeux Environnementaux. 2.2. Croissance économique et inégalité environnementale. 2.3. La théorie du Donut, nouvelle boussole de développement économique ?. 2.4. Débat/Invité·e·s externes (en fonction disponibilité). 3. Le Commerce Equitable comme alternative possible. 3.1. Historique. 3.2. Définitions et principes. 3.3. La labellisation. 3.4. La place du commerce équitable. 3.5. Les nouveaux enjeux et pertinence du modèle (exemple des « initiatives volontaires »). 3.6. Débat/Invité(e)s externes (en fonction disponibilité). 4. Enjeux et défis du secteur informel. 4.1. La loi des trois secteurs. 4.2. Le secteur tertiaire dans les pays en développement. 4.3. Le secteur informel. 4.4. L’intégration du secteur informel. 5. Le micro crédit : comme outil de renforcement économique. 5.1. Définition et principes. 5.2. Diversité des structures. 5.3. Débat/Invité·e·s externes (en fonction disponibilité). 6. Présentation du travail de groupe basé sur lecture d’articles/rapports. 6.1. Présentation par groupes et discussions (Répartis pendant chaque cours). Pour la section « Structures de pouvoir dans les sociétés du Sud » - Patrick Gaudissart. 1. Le dynamisme inégal du développement des sociétés humaines. 1.1. La dynamique inégale. 1.2. L’évolution des théories du développement. 2. Les acteurs internes du développement. 2.1. Le rôle de l’Etat, les structures de pouvoir étatiques. 2.2. La Société civile. 3. Les acteurs externes du développement. 3.1. Ressources internationales publiques du développement et acteurs en présence. 3.2. Différents apports et acteurs. 3.3. Différents mécanismes belges d’Aide Publique au développement. 3.4. Enjeux et tendances actuelles. 3.5. Témoignages (en fonction des disponibilités d’agendas : ONG/ Bilatéral/Global Approach). 4. Les dynamiques de développement. 4.1. Démocratie : termes du débat et processus de démocratisation. 4.2. Démocratie et développement. 5. Présentation du travail de groupe basé sur des articles/rapport. 5.1. Présentation par groupes et discussions ( Répartis pendant chaque cours).. Pour la section « Approche interculturelle du développement » - Laurent Lahaye. - La culture. o Dimensions. o Définition. o Fonctions sociales. o Lien entre culture et évolution des sociétés, en particulier son organisation socio-économique. o Lien avec la sociologie et la théorie des cités de Boltanski & Thévenot. - Modèles de développement. o Examen critique des grandes théories du développement qui ont influencé la pratique de la coopération. o Notion d’ethnocentrisme dans la coopération bi- et multilatérale et dans les ONG. o Critique du concept de développement. - Analyse des causes de réussite ou d’échec des programmes et projets au Sud. - L’examen des pratiques nouvelles de prise en compte dynamisante de la culture locale. o Ecueils d’une approche culturaliste déterministe, statique et conservatrice. o Identité comme récit potentiellement mobilisateur. o Métissage culturel. o Universalisme versus relativisme culturel. - La gestion adaptée au contexte culturel : le « culture-fit model », le « modèle circulatoire de management en Afrique », etc. - Dépassement citoyen de la modernité, du capitalisme et du patriarcat. o Qu’avons-nous à apprendre du Sud… ?. o Alter mondialisme. o Simplicité volontaire. o Monde en transition. - Présentations et discussions \n",
      "==================================================\n",
      "GENV0001-2 49.63650628163554\n",
      "Ce cours initie les étudiants à l’analyse des interactions entre les interventions de l’ingénieur et l’environnement. Au-delà de l’identification des impacts environnementaux, l’accent est surtout mis sur les moyens d’action pour les prévenir, les maîtriser et les atténuer. Le cours est dispensé par plusieurs enseignants issus de domaines distincts de l’ingénierie (géologie, hydraulique et chimie), ce qui lui confère un caractère multidisciplinaire parfaitement en phase avec la plupart des problématiques environnementales. Au travers d’un cadre méthodologique commun (Drivers Pressures State Impact Response - DPSIR), le cours intègre de nombreux exemples réels issus des trois disciplines. Les matières suivantes sont abordées : . potentiel et vulnérabilités de l’environnement souterrain, géo-ressources minérales et énergétiques (y compris géothermie), mouvements de l’eau et des contaminants dans le sous-sol, géo-risques naturels et induits, principes de la géothermie et des stockages dans le sous-sol ;. hydroélectricité, gestion durable des réservoirs, impacts hydrologiques du changement climatique, risque de crues et étiages, équilibre hydromorphologique et restauration de cours d’eau ;. pollution atmosphérique, pollution de l’eau, protection intégrée et additive de l’environnement, analyse de cycle de vie. L’enseignement de chacune de ces matières combine une analyse environnementale avec l’exposé des concepts fondamentaux indispensables à la compréhension des processus physiques sous-jacents.\n",
      "==================================================\n",
      "MLSMM2253 49.65672127105386\n"
     ]
    },
    {
     "name": "stdout",
     "output_type": "stream",
     "text": [
      ". L’étudiant sera également amené, de manière individuelle ou en groupe selon la taille de l’auditoire, à présenter un travail personnel basé sur la lecture d’un article scientifique qui illustre un cas d’application. Lien entre logistique d’entreprise et transport \n",
      "==================================================\n",
      "ENVT0050-1 49.687753375539856\n",
      "Le cours a pour objectif de fournir aux étudiants les éléments scientifiques de contexte, de réglementation (y compris les démarches d’études d’incidence et d’octroi de permis d’environnement) et ceux liés aux impacts de l’industrie sur l’environnent en rapport avec les procédés industriels. Les secteurs « air », « eau » et « sols » seront particulièrement développés. La matière est illustrée par la présentation d’industries telles que la papeterie, la cimenterie et la sidérurgie. Une visite d’entreprise est prévue pour autant qu’elle puisse être organisée. La structure est la suivante. - (AC Romain) Introduction (base de données des industries code NACE, définition pollution industrielle...). - (AC Romain) Législation (permis d’environnement, IED, Etudes d’incidences, SEVESO, E-PRTR). - (AC Romain et A Hanson) Exemples d’industries (papeterie, cimenterie, sidérurgie). - (AC Romain) Effluents gazeux-Pollution de l’air. - (A Hanson) Eaux usées. - (A Hanson) Sols. - (A Hanson) Déchets\n",
      "==================================================\n",
      "H0T89A 49.79201599613915\n",
      "Content. The course consists of 8 lectures of 2 hours,. The syllabus can be summarized as follows: General context of sustainable building, life cycle thinking and the need to reduce the environmental footprint of the built environment;. Illustration of the complexity of sustainability and challenges at the different scale levels of the built environment;. Quantitative environmental assessment method: life cycle assessment (LCA) (background, international standards, European standards/methods, national implementations). Main environmental impacts from the built environment (e.g. climate change, toxicity, particulate matter formation, loss of biodiversity, change of soil quality,…) linked to interventions (e.g. land use, water use, emissions, etc) and processes/life cycle stages (e.g. production, transport, energy, end of life treatment, etc.);. Life cycle inventory and data quality: generic databases versus specific data, data quality assessment method in Belgium, structure of main generic datasets;. Impact assessment models and methods: midpoint versus endpoint methods, carbon sequestration, characterised results versus normalised impacts, role of time horizon, etc.;. External environmental cost and integration with LCC;. Uncertainty analysis, Monte Carlo analysis. Content. Exercises where the student calculates the environmental impact of (parts of) a building and searches for design strategies to reduce the environmental impact.\n",
      "==================================================\n",
      "D0A02A 49.82420606598653\n",
      "Content. This course provides an introduction to the key concepts, tools and methods of environmental and resource economics, as well as to several related policy applications. Core topics. Welfare economics and the environment. Pollution control: targets and instruments. Policy design and implementation with imperfect information - Stock pollution problems. International environmental agreements. Impact assessment and non-market valuation. Non-renewable resources (Hotelling). Renewable resources (e.g. fisheries, forestry). Accounting for the environment. Besides these core topics, a select set of additional topics may be included in the course (e.g. guest lectures or reaction to current trends)\n",
      "==================================================\n",
      "ENVT0060-1 49.83655167193858\n",
      "Le cours porte sur une approche de la sociologie aux problématiques environnementales. Il comporte des parties de présentations ex-cathedra, de mises en discussion d’article de référence. Il s’agit dans ce cours d’initier les participants à la démarche sociologique lorsque cela touche des questions liées à la nature et sa gestion. Une attention sera portée sur l’étude d’une dynamique privilégiée par laquelle les enjeux environnementaux se présentent : la controverse et sa publicisation.\n"
     ]
    }
   ],
   "source": [
    "for course in closests.itertuples():\n",
    "    print('='*50)\n",
    "    print(course.id_course, course.angle)\n",
    "    print(getContent(course.id_course))"
   ]
  },
  {
   "cell_type": "markdown",
   "id": "c5482636",
   "metadata": {},
   "source": [
    "# Perform computations directly at database level"
   ]
  },
  {
   "cell_type": "code",
   "execution_count": 38,
   "id": "d3238158",
   "metadata": {},
   "outputs": [],
   "source": [
    "def encode(x):\n",
    "    return json.dumps(model.encode(clean(x)).tolist())\n",
    "\n",
    "database.create_function('encode',1,encode)\n"
   ]
  },
  {
   "cell_type": "code",
   "execution_count": 40,
   "id": "c176c782",
   "metadata": {},
   "outputs": [],
   "source": [
    "missings=pd.read_sql(f'''\n",
    "select id_course,\n",
    "       angle(encode('{x}'), ar_embeddings) as angle\n",
    "from T_embeddings_content_v1  \n",
    "where id_course not in (\n",
    "    select distinct id_course\n",
    "    from T_courses_scoring_pattern_matches\n",
    "    where year=2022\n",
    " )\n",
    "order by 2\n",
    "''',database)"
   ]
  },
  {
   "cell_type": "code",
   "execution_count": 42,
   "id": "d68d5153",
   "metadata": {
    "scrolled": false
   },
   "outputs": [
    {
     "name": "stdout",
     "output_type": "stream",
     "text": [
      "==================================================\n",
      "8264 41.76796322018083\n",
      "Table of contents : The course will first provide an introduction to climate change science, with a focus on the effects of global change on Tropical ecosystem functions and services, and then it will address the observed and anticipated impacts of global climate change on wetlands, forests and coastal ecosystems. During the course, the students will also acquire an in-depth knowledge of conservation and management issues related to vulnerable tropical ecosystems and of mitigation protocols and scenarios.\n",
      "==================================================\n",
      "AGRO1004-1 43.68490571107374\n",
      "Le cours de physique appliquée consiste à présenter aux étudiants ce qu’est la télédétection et son intérêt pour l’étude de la surface terrestre et plus précisément dans le monde agricole. Une partie du cours est consacrée aux changements climatiques et à l’étude des rapports du GIEC. Pour introduire le changement climatique, nous commencerons par \"la fresque du climat\".\n",
      "==================================================\n",
      "10442 44.74002764134171\n",
      "More than ever, in-depth understanding of climate change is needed to inform the public and policy makers for its possibly consequences. This course provides the basic principles required the understand the functioning of the climate system, and how this functioning is changing due to greenhouse gas emissions. In addition, this course provides master students with an overview of the physical processes in which the Earth’s surface interacts with the climate system, and of the implication this has for future water availability. Finally, there is currently a high demand for employees with data science skills, i.e. scientists who can effectively organize and analyze large datasets to gain useful insights. The strong emphasis on exercises in this course prepares the students for jobs with an emphasis on data preparation, modeling, validation and visualization. 1a. Earth system dynamics and Climate change: the physical science basis (1 ECTS) - Concepts and formalisms employed in meteorology and climate science: * Weather versus climate * Radiation and the earth’s energy budget * Atmospheric circulation across scales * Clouds and precipitation - Physical science basis underlying current knowledge on climate change: * Observed climate change * Drivers of climate change * Understanding and attributing climate change * Climate models - Future projections of climate and climate extremes 1b. Modelling Earth System Dynamics (1 ECTS) - Running a simple climate model using a point-and-click web interface (The Monash Simple Climate Model). - Introduction to Linux, CDO and bash scripting, simple exercises on processing large climate data archive (e.g. CORDEX, CMIP5 or ISIMIP data). - read one or more seminal papers in small groups, write a report about it 2a. Interactions between atmosphere, hydrosphere and biosphere in a changing climate (2 ECTS) - Land surface controls on historical and future changes in climate - Cycles in the earth system (energy, water, carbon) and their interactions - Land-climate interactions (e.g. soil-moisture temperature coupling, surface energy balance, compound events) - Regional and global impacts of land use and land cover changes on climate (biogeophysical and biogeochemical effects). - Links between climate, human water management and water scarcity. - Impacts of climate change across sectors, with a focus on impacts on water resources - Science supporting the Paris Agreement and ongoing climate negotiations (carbon budget, climate action tracker, transient climate response to cumulative CO2 emissions, land-based mitigation) 2b. Modelling land-climate interactions (1 ECTS) - Earth system sensitivity to complex feedbacks: the case of daisy world. - Running global-scale simulations with the Community Land Model (CLM), perform and analyse a sensitivity experiment. - Programming in your web browser: using the Google Earth Engine, the ESA Earthsytemdatacube or the ECMWF Climate Data Store.\n",
      "==================================================\n",
      "MSPRI2164 46.08832795122454\n",
      ". Module : Négociations internationales autour des changements climatiquesrnational environnemental et changements climatiques Module : Géopolitique des changements climatiques et actions des institutions internationales \n",
      "==================================================\n",
      "6799 46.09998907488889\n",
      "The course consists of about 6 lectures covering the broad theme of ’Global Change’, often given by invited speakers. Typical subjects of the presentations cover the history of the Earth, the palaeoclimate, and various aspects of global warming (physical, economical, and political)\n",
      "==================================================\n",
      "4310 47.43533611931696\n",
      "Content of theoretical lessons: Historical introduction; The engineering design process (with case histories); (analysis and implementation); Protection of technical kwowledge; European regulations,Innovation strategy and management; Hazards of new technology, ethics and product liability; Global warming. During the course , there will be some seminars by invited speakers from industry and some visits to selected companies. The student has to write 3 papers on selected topics, dealing with FMEA, environment and new technologies.\n",
      "==================================================\n",
      "SGOGB305 48.90262332498587\n",
      "Acquis d’apprentissage. A la fin du cours, l’étudiant sera capable de. 1. Comprendre comment l’homme interagit avec son environnement autour d’une des nombreuses problématiques liées aux changements globaux de l’environnement;. 2. Mettre en évidence les preuves scientifiques de cette problématique si médiatique, étape nécessaire avant de développer un avis ;. 3. Développer un esprit critique face à la quantité d’information présente autour de nous (média, internet, homme de la rue, politique, scientifique, etc.). Objectifs. 1. Comprendre comment l’homme interagit avec son environnement autour d’une des nombreuses problématiques liées aux changements globaux de l’environnement;. 2. Mettre en évidence les preuves scientifiques de ces problématiques si médiatiques, étape nécessaire avant de développer un avis ;. 3. Développer un esprit critique face à la quantité d’information présente autour de nous (média, internet, homme de la rue, politique, scientifique, etc.). Contenu. Approche par problème, en groupe, autour d’une problématique donnée. Table des matières. Disciplines. Géographie humaine Economie de l’environnement et des ressources naturelles\n",
      "==================================================\n",
      "S0F06A 48.965303442744535\n",
      "Content. Students will be acquainted with the main approaches to analysing global environmental, climate, and sustainability politics. The roles of the main actors and processes of international environmental, climate, and sustainability politics as well as the most important principles and concepts of contemporary global environmental, climate, and sustainability governance will be discussed. The course includes various activities: Each session consists of an online module and a class meeting. The online modules should be completed prior to the respective class meeting, during which its content, tasks, and case studies will be discussed;. During small-group seminars, students will apply the knowledge that they acquired through the online module and a class meeting to real-life cases. During a simulation, students will take on the roles of country representatives and simulate the negotiations of an international environmental, climate, or sustainability agreement;. Selected guest speakers will share their insights into different aspects of global environmental, climate, and sustainability governance.\n",
      "==================================================\n",
      "LDEMO2130 49.11089916919408\n",
      ". Identifier les grandes théories, doctrines et approches explicatives propres à chaque grand phénomène démographique (fécondité, formation des couples, mortalité, migration, urbanisation) ou aux relations population-développement ; Identifier les relations causales entre variables ; Identifier les avantages et inconvénients des niveaux d’analyse micro, meso et macro ; Aider à l’identification de l’une ou l’autre approche théorique ou explicative pour leur mémoire.\n",
      "==================================================\n",
      "JPOW11 49.36097607198236\n"
     ]
    },
    {
     "name": "stdout",
     "output_type": "stream",
     "text": [
      "Inhoud. Vakdidactiek. Studie van het leerplan SO aardrijkskunde tweede graad - juiste begripsvorming in de aardrijkskunde. Leerplan. Het weer - Extreem weer - Het klimaat - Klimaatzones - Natuurlijke vegetaties. Basis. Samenstelling en opbouw van de atmosfeer - stralingsbalans op aarde - algemene luchtcirculatie op aarde - luchtvochtigheid en neerslag - weerkaarten en het weerbericht. Uitdieping. Klimaatclassificatie van Köppen\n",
      "==================================================\n",
      "LICAR2823 49.390393244525484\n",
      "Partant d’un aperçu historique des principes et des debats liés au développement durable, le cours étudie la manière dont la recherche scientifique et la pratique du projet peuvent répondre de manière adéquate aux défis actuels et futurs - p.ex., le changement climatique, la crise énergétique, les demandes de confort, santé et bien-être dans les bâtiments - dans le cadre d’une approche résiliente et circulaire a’ la conception architecturale. Le cours s’articule autour des contenus suivants : - De la durabilité à la résilience et à la circularité - Labels environnementaux et certificats énergétiques - Bâtiments verts vs. bâtiments sains - Confort, santé et bien-être dans les bâtiments - Physique vs. psychophysique : les limites de la tolérance - Méthodes et outils pour la conception et l’analyse environnementale - Recherche par le projet ou Projet par la recherche\n",
      "==================================================\n",
      "GEST1097-1 49.47351926494259\n",
      "Gestion du changement. Le cours fournit aux étudiants un certain nombre d’outils théoriques et conceptuels en vue de les aider à concevoir, de manière pertinente, un plan d’action et de gestion du changement. Il présente un certain nombre de grilles dont on peut disposer, dans les Sciences de gestion, pour décrire les divers projets de changements, leur nature, leur ampleur et leur temporalité. Il montre comment on peut tenter d’expliquer ces changements en recourant à différentes approches théoriques. Une réflexion critique est entamée sur la manière d’évaluer un processus de changement à l’aide d’une grille multidimensionnelle. Enfin, il aborde le changement comme processus à gérer, en explorant diverses pistes d’action concrètes liées aux approches théoriques envisagées précédemment. Gestion par objectifs. L’atelier est consacré a` l’analyse des trois thèmes suivants, qui sont au cur du métier du manager : définir des objectifs, déléguer des tâches, évaluer des objectifs. Ces trois thématiques seront abordées selon trois perspectives : . Est-ce que cela marche ? (démarche critique). Pourquoi est-ce que cela marche ? (compréhension des mécanismes). Comment faire concrètement ? (application pratique). L’approche privilégiée repose sur les principes de l’Evidence-Based Management (les recherches scientifiques au service de la pratique de terrain) et sur l’approche et les outils inspirés du coaching et de « l’Orientation solution ».\n",
      "==================================================\n",
      "22MPD20 49.63122818628959\n",
      "Le plan du cours est sujet à modification en fonction des intérêts des étudiants, de l’actualité et du temps disponible. Pour la section « Questions de gestion dans les contextes de développement » - Patrick Gaudissart. 1. Mondialisation et développement. 1.1. Mondialisation et dépendance. 1.2. Les termes de l’échange. 1.3. Les politiques commerciales. 2. Enjeux de développement face aux défis Mondiaux. 2.1. Développement économique et enjeux Environnementaux. 2.2. Croissance économique et inégalité environnementale. 2.3. La théorie du Donut, nouvelle boussole de développement économique ?. 2.4. Débat/Invité·e·s externes (en fonction disponibilité). 3. Le Commerce Equitable comme alternative possible. 3.1. Historique. 3.2. Définitions et principes. 3.3. La labellisation. 3.4. La place du commerce équitable. 3.5. Les nouveaux enjeux et pertinence du modèle (exemple des « initiatives volontaires »). 3.6. Débat/Invité(e)s externes (en fonction disponibilité). 4. Enjeux et défis du secteur informel. 4.1. La loi des trois secteurs. 4.2. Le secteur tertiaire dans les pays en développement. 4.3. Le secteur informel. 4.4. L’intégration du secteur informel. 5. Le micro crédit : comme outil de renforcement économique. 5.1. Définition et principes. 5.2. Diversité des structures. 5.3. Débat/Invité·e·s externes (en fonction disponibilité). 6. Présentation du travail de groupe basé sur lecture d’articles/rapports. 6.1. Présentation par groupes et discussions (Répartis pendant chaque cours). Pour la section « Structures de pouvoir dans les sociétés du Sud » - Patrick Gaudissart. 1. Le dynamisme inégal du développement des sociétés humaines. 1.1. La dynamique inégale. 1.2. L’évolution des théories du développement. 2. Les acteurs internes du développement. 2.1. Le rôle de l’Etat, les structures de pouvoir étatiques. 2.2. La Société civile. 3. Les acteurs externes du développement. 3.1. Ressources internationales publiques du développement et acteurs en présence. 3.2. Différents apports et acteurs. 3.3. Différents mécanismes belges d’Aide Publique au développement. 3.4. Enjeux et tendances actuelles. 3.5. Témoignages (en fonction des disponibilités d’agendas : ONG/ Bilatéral/Global Approach). 4. Les dynamiques de développement. 4.1. Démocratie : termes du débat et processus de démocratisation. 4.2. Démocratie et développement. 5. Présentation du travail de groupe basé sur des articles/rapport. 5.1. Présentation par groupes et discussions ( Répartis pendant chaque cours).. Pour la section « Approche interculturelle du développement » - Laurent Lahaye. - La culture. o Dimensions. o Définition. o Fonctions sociales. o Lien entre culture et évolution des sociétés, en particulier son organisation socio-économique. o Lien avec la sociologie et la théorie des cités de Boltanski & Thévenot. - Modèles de développement. o Examen critique des grandes théories du développement qui ont influencé la pratique de la coopération. o Notion d’ethnocentrisme dans la coopération bi- et multilatérale et dans les ONG. o Critique du concept de développement. - Analyse des causes de réussite ou d’échec des programmes et projets au Sud. - L’examen des pratiques nouvelles de prise en compte dynamisante de la culture locale. o Ecueils d’une approche culturaliste déterministe, statique et conservatrice. o Identité comme récit potentiellement mobilisateur. o Métissage culturel. o Universalisme versus relativisme culturel. - La gestion adaptée au contexte culturel : le « culture-fit model », le « modèle circulatoire de management en Afrique », etc. - Dépassement citoyen de la modernité, du capitalisme et du patriarcat. o Qu’avons-nous à apprendre du Sud… ?. o Alter mondialisme. o Simplicité volontaire. o Monde en transition. - Présentations et discussions \n",
      "==================================================\n",
      "ENVT0050-1 49.68775853433203\n",
      "Le cours a pour objectif de fournir aux étudiants les éléments scientifiques de contexte, de réglementation (y compris les démarches d’études d’incidence et d’octroi de permis d’environnement) et ceux liés aux impacts de l’industrie sur l’environnent en rapport avec les procédés industriels. Les secteurs « air », « eau » et « sols » seront particulièrement développés. La matière est illustrée par la présentation d’industries telles que la papeterie, la cimenterie et la sidérurgie. Une visite d’entreprise est prévue pour autant qu’elle puisse être organisée. La structure est la suivante. - (AC Romain) Introduction (base de données des industries code NACE, définition pollution industrielle...). - (AC Romain) Législation (permis d’environnement, IED, Etudes d’incidences, SEVESO, E-PRTR). - (AC Romain et A Hanson) Exemples d’industries (papeterie, cimenterie, sidérurgie). - (AC Romain) Effluents gazeux-Pollution de l’air. - (A Hanson) Eaux usées. - (A Hanson) Sols. - (A Hanson) Déchets\n",
      "==================================================\n",
      "ENVT0060-1 49.836557109618155\n",
      "Le cours porte sur une approche de la sociologie aux problématiques environnementales. Il comporte des parties de présentations ex-cathedra, de mises en discussion d’article de référence. Il s’agit dans ce cours d’initier les participants à la démarche sociologique lorsque cela touche des questions liées à la nature et sa gestion. Une attention sera portée sur l’étude d’une dynamique privilégiée par laquelle les enjeux environnementaux se présentent : la controverse et sa publicisation.\n",
      "==================================================\n",
      "6973 50.13206304899595\n"
     ]
    },
    {
     "name": "stdout",
     "output_type": "stream",
     "text": [
      "Lecture: The course is an introduction to the world of Thermal Power Generation. The role of Thermal Generation in the Electricity supply, as well as the interfaces with the grids and the market are shortly described. A technical description of the different types of power plants is given. Coal, gas, biomass, waste and nuclear power plants are described (the description of a nuclear reactor and reactor physics ar not included). Special attention is given to the environmental impact and the methods to reduce the flue gas emissions of thermal power plants. A specific chapter deals with Carbon Capture and Storage (CCS). For all items the intention of the course is to give the evolution and to describe as well the technology from today, as the one that will be used tomorrow. Reference to constructors and cost elements are given. Economic aspects of Power Generation Context: the electricity landscape Thermal electricity generation and types of Power Plants solid fuels-fired: grate-fired / pulverized-fuel / CFB Gas-fired: gas turbines / CCGT Nuclear Cooling circuits Process control Environmental aspects: regulations Primary NOx reduction, DeNOx, DeSOx, De-dusting, Mercury Cost aspects Practical exercise: In the practical exercise sessions students solve problems under supervision. The selected problems are direct applications of knowledge and concepts gained in the lectures. Visits: At least one thermal power plant will be visited.\n",
      "==================================================\n",
      "G0D01A 50.15066003224931\n",
      "Content. The course will include lectures covering the following topics: ; General chemical and physical properties of the atmosphere. ; Chemical analysis of the atmosphere: sampling, spectroscopy, remote sensing, satellite methods. ; Chemical transport within the atmosphere. ; Heat transport through the atmospheric system, including the greenhouse effect. ; Stratospheric chemistry including standard chemistry of ozone and ozone depletion. ; Tropospheric chemistry including the effect of pollutants (NOx, ozone, hydrocarbons). ; Models of the atmosphere. ; Chemical kinetics concepts for atmospheric chemistry\n",
      "==================================================\n",
      "9386 50.19861115773813\n",
      "Lecture: The course is an introduction to the world of Thermal Power Generation. The role of Thermal Generation in the Electricity supply, as well as the interfaces with the grids and the market are shortly described. A technical description of the different types of power plants is given. Coal, gas, biomass, waste and nuclear power plants are described (the description of a reactor itself and reactor physics ar not included). Special attention is given to the environmental impact and the methods to reduce the flue gas emissions of thermal power plants. A specific chapter deals with Carbon Capture and Storage (CCS). For all items the intention of the course is to give the evolution and to describe as well the technology from today, as the one that will be used tomorrow. Reference to constructors and cost elements are given. Economic aspects of Power Generation Context: the electricity landscape Thermal electricity generation and types of Power Plants Solid fuel-fired: grate-fired / pulverized-fuel / CFB Gas-fired: gas turbines / CCGT Nuclear Cooling circuits Process control Environmental aspects: regulations Primary NOx reduction, DeNOx, DeSOx, de-dusting, Mercury Cost aspects Practical exercise: In the practical exercise sessions students solve problems under supervision. The selected problems are direct applications of knowledge and concepts gained in the lectures. Visits: At least one thermal power plant will be visited.\n",
      "==================================================\n",
      "T37MTE 50.225036417485036\n",
      "Content. The course considers the environmental compartments air, water and soil. Typical pollutants, their sources and removal technologies are discussed. Furthermore, the course reviews the causes of current environmental problems and points out their possible solutions. Content. In the seminars, certain environmental problems and technologies are critically explored in depth in an interactive way. Attention is being payed to gathering and critical reflecting on emission and other environmental data. Furthermore, the three pillars of sustainability i.e. people, planet, profit are discussed.\n",
      "==================================================\n",
      "LGEO1251 50.27889523066568\n",
      "Le cours portera sur l’histoire de la Terre, depuis la formation de la Terre jusqu’au Quaternaire. Les grandes étapes de l’évolution dynamique de l’atmosphère, la configuration des continents, le climat et la vie seront abordées. Le cours a pour objectif d’approfondir un certain nombre de concepts qui sont à la base des grands phénomènes géologiques et d’applications concrètes dans la perception spatiale de notre environnement quotidien. Dans ses aspects pratiques, le cours s’attachera surtout à la lecture des cartes géologiques et à leur interprétation tridimensionnelle au moyen de coupes géologiques ainsi qu’à la détermination macroscopique des roches et des minéraux qui les constituent, et la détermination des fossiles guides.\n",
      "==================================================\n",
      "SPAT0024-2 50.314620846085134\n",
      "Les chapitres principaux du cours théorique sont les suivants: . Partim 1 Introduction 1. Observation de l’atmosphère 2. Bilan énergétique de l’atmosphère et de la surface terrestre 3. Thermodynamique atmospherique et stabilité verticale. Partim 2 4. Les équations fondamentales de l’atmosphère 5. Théorie des mouvements atmosphériques (approximation géostrophique, vent thermique, ondes atmosphériques, etc) 6. La couche limite planétaire (turbulence atmosphérique) 7. Processus de saturation et condensation 8. Circulation à la macro-échelle. Partim 1. Les chapitres principaux du cours théorique sont les suivants: . Partim 1 Introduction 1. Observation de l’atmosphère 2. Bilan énergétique de l’atmosphère et de la surface terrestre 3. Thermodynamique atmospherique et stabilité verticale. Partim 2 4. Les équations fondamentales de l’atmosphère 5. Théorie des mouvements atmosphériques (approximation géostrophique, vent thermique, ondes atmosphériques, etc) 6. La couche limite planétaire (turbulence atmosphérique) 7. Processus de saturation et condensation 8. Circulation à la macro-échelle. Partim 2. Les chapitres principaux du cours théorique sont les suivants: . Partim 1 Introduction 1. Observation de l’atmosphère 2. Bilan énergétique de l’atmosphère et de la surface terrestre 3. Thermodynamique atmosphérique et stabilité verticale. Partim 2 4. Les équations fondamentales de l’atmosphère 5. Théorie des mouvements atmosphériques (approximation géostrophique, vent thermique, ondes atmosphériques, etc) 6. La couche limite planétaire (turbulence atmosphérique) 7. Processus de saturation et condensation 8. Circulation à la macro-échelle\n",
      "==================================================\n",
      "SPAT0024-3 50.314620846085134\n",
      "Les chapitres principaux du cours théorique sont les suivants: . Partim 1 Introduction 1. Observation de l’atmosphère 2. Bilan énergétique de l’atmosphère et de la surface terrestre 3. Thermodynamique atmospherique et stabilité verticale. Partim 2 4. Les équations fondamentales de l’atmosphère 5. Théorie des mouvements atmosphériques (approximation géostrophique, vent thermique, ondes atmosphériques, etc) 6. La couche limite planétaire (turbulence atmosphérique) 7. Processus de saturation et condensation 8. Circulation à la macro-échelle\n",
      "==================================================\n",
      "3987 50.52009611956206\n",
      "In deze cursus wordt er verdergebouwd op de opgedane kennis betreffende de speciale relativiteitstheorie om zo zwaartekracht te beschrijven in functie van de geometrie van de ruimtetijd. Deze introductie tot de algemene relativiteitstheorie van Einstein zal zich vooral richten op de beschrijving van testdeeltjes en lichtstralen in een vooraf gegeven geometrie van de ruimtetijd, zoals bijvoorbeeld in de geometrie beschreven door de Schwarzschildmetriek. Daarnaast zullen ook een aantal onderwerpen bestudeerd worden die nodig zijn om te berekenen hoe een bepaalde geometrie tot stand komt, zoals bijvoorbeeld de begrippen parallel transport en covariante afgeleide. Met de opgedane kennis kunnen dan verder toepassingen van algemene relativiteitstheorie bestudeerd worden, zoals kosmologie en gravitatiegolven.\n",
      "==================================================\n",
      "SHBF0002-1 50.64768475535355\n"
     ]
    },
    {
     "name": "stdout",
     "output_type": "stream",
     "text": [
      "Objectifs : . Le cours a pour but d’amener les étudiants à maîtriser les concepts clés de la géographie. Les étudiants seront en outre capables d’établir des relations entre les divers milieux de vie à la surface du globe. Contenus : . Météorologie : . Répartitions, variations et causes des variations des rayonnements, des températures, de la pression atmosphérique, de l’humidité, des précipitations et des masses d’air au niveau mondial et local. Analyse de cartes météo.\n",
      "==================================================\n",
      "SPAT0024-4 50.87950245264226\n",
      "Les chapitres principaux du cours théorique sont les suivants: . Partim 1 Introduction 1. Observation de l’atmosphère 2. Bilan énergétique de l’atmosphère et de la surface terrestre 3. Thermodynamique atmosphérique et stabilité verticale. Partim 2 4. Les équations fondamentales de l’atmosphère 5. Théorie des mouvements atmosphériques (approximation géostrophique, vent thermique, ondes atmosphériques, etc) 6. La couche limite planétaire (turbulence atmosphérique) 7. Processus de saturation et condensation 8. Circulation à la macro-échelle\n"
     ]
    }
   ],
   "source": [
    "for course in missings.head(25).itertuples():\n",
    "    print('='*50)\n",
    "    print(course.id_course, course.angle)\n",
    "    print(getContent(course.id_course))"
   ]
  }
 ],
 "metadata": {
  "kernelspec": {
   "display_name": "Python 3 (ipykernel)",
   "language": "python",
   "name": "python3"
  },
  "language_info": {
   "codemirror_mode": {
    "name": "ipython",
    "version": 3
   },
   "file_extension": ".py",
   "mimetype": "text/x-python",
   "name": "python",
   "nbconvert_exporter": "python",
   "pygments_lexer": "ipython3",
   "version": "3.10.8"
  }
 },
 "nbformat": 4,
 "nbformat_minor": 5
}
